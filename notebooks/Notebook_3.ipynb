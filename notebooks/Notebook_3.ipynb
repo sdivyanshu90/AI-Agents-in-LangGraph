{
 "cells": [
  {
   "cell_type": "markdown",
   "id": "2544dd96-a13c-42df-ab63-c427e68fd41e",
   "metadata": {},
   "source": [
    "# Lesson 3: Agentic Search"
   ]
  },
  {
   "cell_type": "code",
   "execution_count": 1,
   "id": "d0168aee-bce9-4d60-b827-f86a88187e31",
   "metadata": {
    "height": 200
   },
   "outputs": [],
   "source": [
    "# libraries\n",
    "from dotenv import load_dotenv\n",
    "import os\n",
    "from tavily import TavilyClient\n",
    "\n",
    "# load environment variables from .env file\n",
    "_ = load_dotenv()\n",
    "\n",
    "# connect\n",
    "client = TavilyClient(api_key=os.environ.get(\"TAVILY_API_KEY\"))"
   ]
  },
  {
   "cell_type": "code",
   "execution_count": 3,
   "id": "a2ba84ec-c172-4de7-ac55-e3158a531b23",
   "metadata": {
    "height": 149
   },
   "outputs": [
    {
     "data": {
      "text/plain": [
       "'The DGX Spark features a 1 petaflop Grace Blackwell GB10 Superchip and 128GB memory, priced at $3,999. It can run AI models with up to 200 billion parameters locally. It aims to democratize AI compute power.'"
      ]
     },
     "execution_count": 3,
     "metadata": {},
     "output_type": "execute_result"
    }
   ],
   "source": [
    "# run search\n",
    "result = client.search(\"What is in Nvidia's new DGX GPU?\",\n",
    "                       include_answer=True)\n",
    "\n",
    "# print the answer\n",
    "result[\"answer\"]\n"
   ]
  },
  {
   "cell_type": "markdown",
   "id": "d7f3f33c-c7bd-4b7f-9616-b65eef104514",
   "metadata": {},
   "source": [
    "## Regular search"
   ]
  },
  {
   "cell_type": "code",
   "execution_count": 11,
   "id": "876d5092-b8ef-4e38-b4d7-0e80c609bf7a",
   "metadata": {
    "height": 183
   },
   "outputs": [],
   "source": [
    "# choose location (try to change to your own city!)\n",
    "\n",
    "city = \"Mumbai\"\n",
    "\n",
    "query = f\"\"\"\n",
    "    what is the current weather in {city}?\n",
    "    Should I travel there today?\n",
    "    \"weather.com\"\n",
    "\"\"\""
   ]
  },
  {
   "cell_type": "markdown",
   "id": "2128e40f-11ef-41ed-ac1f-7feeb5546224",
   "metadata": {},
   "source": [
    "> Note: search was modified to return expected results in the event of an exception. High volumes of student traffic sometimes cause rate limit exceptions."
   ]
  },
  {
   "cell_type": "code",
   "execution_count": 12,
   "id": "10084a02-2928-4945-9f7c-ad3f5b33caf7",
   "metadata": {
    "height": 404
   },
   "outputs": [
    {
     "name": "stdout",
     "output_type": "stream",
     "text": [
      "returning previous results due to exception reaching ddg.\n",
      "https://weather.com/weather/today/l/USCA0987:1:US\n",
      "https://weather.com/weather/hourbyhour/l/54f9d8baac32496f6b5497b4bf7a277c3e2e6cc5625de69680e6169e7e38e9a8\n"
     ]
    }
   ],
   "source": [
    "import requests\n",
    "from bs4 import BeautifulSoup\n",
    "from duckduckgo_search import DDGS\n",
    "import re\n",
    "\n",
    "ddg = DDGS()\n",
    "\n",
    "def search(query, max_results=6):\n",
    "    try:\n",
    "        results = ddg.text(query, max_results=max_results)\n",
    "        return [i[\"href\"] for i in results]\n",
    "    except Exception as e:\n",
    "        print(f\"returning previous results due to exception reaching ddg.\")\n",
    "        results = [ # cover case where DDG rate limits due to high deeplearning.ai volume\n",
    "            \"https://weather.com/weather/today/l/USCA0987:1:US\",\n",
    "            \"https://weather.com/weather/hourbyhour/l/54f9d8baac32496f6b5497b4bf7a277c3e2e6cc5625de69680e6169e7e38e9a8\",\n",
    "        ]\n",
    "        return results  \n",
    "\n",
    "\n",
    "for i in search(query):\n",
    "    print(i)"
   ]
  },
  {
   "cell_type": "code",
   "execution_count": 13,
   "id": "d31c432d-8e22-412f-b302-961ace0b00bd",
   "metadata": {
    "height": 285
   },
   "outputs": [],
   "source": [
    "def scrape_weather_info(url):\n",
    "    \"\"\"Scrape content from the given URL\"\"\"\n",
    "    if not url:\n",
    "        return \"Weather information could not be found.\"\n",
    "    \n",
    "    # fetch data\n",
    "    headers = {'User-Agent': 'Mozilla/5.0'}\n",
    "    response = requests.get(url, headers=headers)\n",
    "    if response.status_code != 200:\n",
    "        return \"Failed to retrieve the webpage.\"\n",
    "\n",
    "    # parse result\n",
    "    soup = BeautifulSoup(response.text, 'html.parser')\n",
    "    return soup\n"
   ]
  },
  {
   "cell_type": "markdown",
   "id": "0b67d8ad-a439-4c91-9dfe-7c84998ef644",
   "metadata": {},
   "source": [
    "> Note: This produces a long output, you may want to right click and clear the cell output after you look at it briefly to avoid scrolling past it."
   ]
  },
  {
   "cell_type": "code",
   "execution_count": 14,
   "id": "714d1205-f8fc-4912-b148-2a45da99219c",
   "metadata": {
    "height": 166
   },
   "outputs": [
    {
     "name": "stdout",
     "output_type": "stream",
     "text": [
      "returning previous results due to exception reaching ddg.\n",
      "Website: https://weather.com/weather/today/l/USCA0987:1:US\n",
      "\n",
      "\n",
      "<body><div class=\"appWrapper DaybreakLargeScreen LargeScreen lightTheme twcTheme DaybreakLargeScreen--appWrapper--ZkDop\" id=\"appWrapper\"><div class=\"region-sidebarNavigation regionSidebarNavigation\"><div class=\"removeIfEmpty\" id=\"WxuSidebarNavigation-sidebarNavigation-sidebar-nav-injection\"><div aria-hidden=\"false\" class=\"SidebarNavigation--sidebarWrapper--v+g78\"><nav aria-label=\"Site Navigation Links\" class=\"SidebarNavigation--sidebar--A5yHr\" data-testid=\"sidebar-navigation\"><div class=\"SidebarNavigation--sidebarHeader--bMAxo\"><button class=\"SidebarNavigation--overlayControlButton--cSFvn openSidebarOverlayButton\" tabindex=\"0\" type=\"button\"><span class=\"Icon--iconWrapper--vSeDL\"><svg class=\"Icon--icon--ySD-o\" fill=\"none\" height=\"24\" name=\"hamburger\" viewbox=\"0 0 24 24\" width=\"24\" xmlns=\"http://www.w3.org/2000/svg\">\n",
      "<title>Hamburger</title>\n",
      "<path d=\"M20 16C20.5523 16 21 16.4477 21 17C21 17.5523 20.5523 18 20 18H4C3.44772 18 3 17.5523 3 17C3 16.4477 3.44772 16 4 16H20Z\" fill=\"#252422\"></path>\n",
      "<path d=\"M20 11C20.5523 11 21 11.4477 21 12C21 12.5523 20.5523 13 20 13H4C3.44772 13 3 12.5523 3 12C3 11.4477 3.44772 11 4 11H20Z\" fill=\"#252422\"></path>\n",
      "<path d=\"M20 6C20.5523 6 21 6.44772 21 7C21 7.55228 20.5523 8 20 8H4C3.44772 8 3 7.55228 3 7C3 6.44772 3.44772 6 4 6H20Z\" fill=\"#252422\"></path>\n",
      "</svg>\n",
      "</span></button><a class=\"SidebarNavigation--logoLink--kA9Zy\" href=\"/\" tabindex=\"0\"><span class=\"Icon--iconWrapper--vSeDL\"><svg class=\"SidebarNavigation--logoIcon--OzBbh Icon--icon--ySD-o\" fill=\"none\" name=\"twc-logo-tm\" viewbox=\"0 0 52 48\" xmlns=\"http://www.w3.org/2000/svg\">\n",
      "<title>The Weather Company</title>\n",
      "<path clip-rule=\"evenodd\" d=\"M48 48H0V0h48v48ZM19.197 37.414c-.548 0-1.05.105-1.633.35-.42.163-.583.245-.967.49l.665 1.119c.64-.431 1.224-.676 1.725-.676.571 0 .7.222.7.886v.245a4.025 4.025 0 0 0-.35-.012c-1.9 0-2.868.653-2.868 2.052 0 1.19.722 1.865 2.051 1.865.49 0 .91-.116 1.202-.326.116-.081.14-.104.361-.314.152.303.479.57.84.722l.827-.956c-.455-.338-.56-.583-.56-1.224v-.105l.036-2.006c0-.64-.023-.827-.105-1.072-.233-.664-.921-1.038-1.924-1.038Zm18.107.012c-.793 0-1.388.257-1.877.804-.525.583-.747 1.295-.747 2.368 0 1.877 1.108 3.09 2.822 3.09.84 0 1.562-.27 2.25-.829l-.607-.932c-.478.396-.979.595-1.515.595-.805 0-1.259-.526-1.259-1.447v-.047h3.451v-.361c0-1.247-.245-2.052-.793-2.611-.384-.397-1.038-.63-1.725-.63ZM7.409 35.234c-1.306 0-2.472.7-3.101 1.877-.373.7-.548 1.505-.548 2.519 0 1.189.326 2.169.98 2.903.664.758 1.527 1.12 2.646 1.12.92 0 1.61-.234 2.25-.758l-.745-1.027a7.262 7.262 0 0 1-.164.128c-.397.268-.781.396-1.224.397-.7 0-1.236-.315-1.563-.91-.244-.443-.337-1.06-.337-2.168 0-.945.139-1.621.454-2.087.291-.432.828-.7 1.376-.7.454 0 .886.152 1.294.455l.735-1.108c-.443-.385-1.248-.64-2.053-.64Zm33.404.012c.059.536.081 1.014.081 1.795l.002 4.714c.005.634.035.812.138 1.08.187.502.723.817 1.388.817.338 0 .664-.058.933-.163l-.268-.933a.519.519 0 0 1-.175.023c-.128 0-.257-.058-.315-.163-.093-.163-.105-.304-.105-1.33v-4.945c-.006-.64-.03-.972-.082-1.257l-1.596.362Zm-30.547 0c.07.245.117.804.117 1.363v6.903h1.585v-4.279c.35-.314.851-.547 1.236-.547.443 0 .606.22.606.815v4.01h1.528v-4.173c0-.676-.035-.77-.151-1.108-.187-.5-.817-.851-1.551-.851-.607 0-1.283.257-1.69.642 0-.07.022-.315.022-.502V36.33c0-.57-.035-1.13-.105-1.457l-1.597.373Zm12.207 2.541c.14.397.21.886.21 1.4v4.325h1.562V39.29c.361-.326.77-.536 1.084-.536.408 0 .526.199.526.875v3.882h1.539v-4.36c0-.373-.036-.63-.118-.851-.186-.513-.769-.863-1.433-.864-.35 0-.759.094-1.073.257-.257.14-.327.186-.688.443a1.53 1.53 0 0 0-.222-.746l-1.387.396Zm6.215 0c.14.397.21.886.21 1.4v4.325h1.562V39.29c.361-.326.77-.536 1.084-.536.408 0 .524.199.524.875v3.882h1.54v-4.36c0-.373-.035-.63-.117-.851-.186-.513-.77-.864-1.434-.864-.35 0-.758.094-1.073.257a5.28 5.28 0 0 0-.688.443c0-.245-.081-.502-.22-.746l-1.389.396ZM19.663 40.9l-.023 1.283c-.233.256-.525.408-.817.408-.396 0-.687-.315-.687-.781 0-.711.373-.91 1.457-.91h.07Zm17.664-2.332c.315 0 .536.117.688.35.14.221.186.455.186.898v.07h-1.806v-.023c0-.828.337-1.295.932-1.295ZM22.1 26.375c-.548 0-1.05.106-1.633.35a4.44 4.44 0 0 0-.968.49l.665 1.119c.641-.431 1.224-.676 1.726-.676.57 0 .699.222.699.886v.245a3.99 3.99 0 0 0-.35-.012c-1.9 0-2.868.653-2.868 2.052 0 1.19.723 1.866 2.052 1.866.49 0 .91-.117 1.201-.327.117-.081.14-.105.361-.314.152.303.479.57.84.722l.827-.956c-.454-.338-.56-.583-.56-1.223v-.106l.036-2.006c0-.64-.023-.827-.105-1.072-.233-.664-.92-1.038-1.923-1.038Zm-5.97.012c-.793 0-1.387.257-1.877.804-.525.583-.746 1.295-.746 2.368 0 1.877 1.107 3.09 2.821 3.09.84 0 1.562-.27 2.25-.829l-.606-.932c-.478.396-.98.594-1.516.594-.804 0-1.259-.525-1.259-1.446v-.046h3.451v-.361c0-1.248-.245-2.053-.793-2.612-.384-.397-1.037-.63-1.725-.63Zm21.651 0c-.793 0-1.388.256-1.878.804-.524.583-.746 1.295-.746 2.368 0 1.877 1.109 3.09 2.823 3.09.839 0 1.562-.27 2.25-.829l-.607-.932c-.478.396-.98.594-1.516.594-.804 0-1.26-.525-1.26-1.446v-.046H40.3v-.361c0-1.248-.244-2.053-.792-2.612-.385-.397-1.038-.63-1.726-.63Zm-12.114-1.294c-.058.443-.059.84-.059 1.423h-.594v1.013h.594l.001 3.498c.004.374.025.492.105.712.175.525.816.874 1.608.874a3.28 3.28 0 0 0 1.272-.268l-.199-.933c-.28.082-.42.117-.56.117-.535 0-.676-.198-.676-.956V27.53h1.003l.397-1.037h-1.4c0-.606.036-1.248.094-1.796l-1.586.397Zm-22.14-.723 1.935 8.173h1.854l.664-3.322c.232-1.18.394-2.315.397-2.332.012.07.105 1.097.385 2.355l.722 3.299h1.785l1.958-8.173h-1.713l-.665 3.078c-.14.677-.42 2.437-.443 2.694 0 0-.199-1.388-.35-2.146L9.31 24.37H7.526l-.723 3.276a27.537 27.537 0 0 0-.42 2.588 21.687 21.687 0 0 0-.43-2.67l-.7-3.194H3.527Zm25.463-.163c.07.245.116.805.116 1.364v6.903h1.586v-4.28c.35-.314.851-.547 1.236-.547.443 0 .606.221.606.816v4.01h1.528V28.3c0-.676-.035-.77-.152-1.108-.186-.5-.816-.85-1.55-.85-.607 0-1.283.256-1.691.64 0-.07.023-.314.023-.5v-1.19c0-.571-.035-1.13-.105-1.457l-1.597.373Zm15.285 2.157c-.175 0-.385.035-.513.093-.292.14-.665.455-.886.758a1.918 1.918 0 0 0-.245-.85l-1.399.372c.129.338.221.944.221 1.748v3.989h1.563v-4.221c.291-.338.606-.502.956-.502a.89.89 0 0 1 .455.117l.431-1.376c-.244-.105-.35-.128-.583-.128Zm-21.71 3.497-.023 1.284c-.233.256-.524.408-.815.408-.397 0-.689-.315-.689-.782 0-.71.374-.91 1.458-.91h.07Zm-6.412-2.332c.315 0 .536.118.688.35.14.222.186.455.186.898v.07h-1.806v-.023c0-.828.338-1.295.932-1.295Zm21.65 0c.316 0 .538.118.69.35.139.222.186.455.186.898v.07H36.87v-.023c0-.827.338-1.295.933-1.295ZM18.65 15.35c-.793 0-1.388.256-1.878.804-.524.583-.746 1.294-.746 2.367 0 1.877 1.108 3.09 2.822 3.09.84 0 1.563-.27 2.25-.829l-.606-.932c-.478.396-.98.594-1.515.594-.805 0-1.26-.524-1.26-1.445v-.047h3.451v-.361c0-1.248-.244-2.053-.792-2.613-.385-.396-1.038-.628-1.726-.628ZM3.48 13.33v1.353h1.982v6.75h1.656v-6.75h1.936l.267-1.353h-5.84Zm6.378-.163c.07.245.117.805.117 1.364v6.903h1.585v-4.28c.35-.314.851-.547 1.236-.548.443 0 .606.222.606.817v4.01h1.528V17.26c0-.676-.035-.77-.152-1.108-.186-.501-.816-.851-1.55-.851-.607 0-1.283.257-1.69.641 0-.07.022-.315.022-.502v-1.189c0-.571-.035-1.13-.105-1.457l-1.597.373Zm8.814 3.323c.315 0 .537.117.688.35.14.221.187.454.187.897v.07h-1.808v-.023c0-.828.338-1.294.933-1.294Z\" fill=\"currentColor\" fill-rule=\"evenodd\"></path>\n",
      "<path d=\"M49.97 2.175V.791h.691a.45.45 0 0 1 .203.05.422.422 0 0 1 .24.397.443.443 0 0 1-.25.416.468.468 0 0 1-.213.054h-.492V1.47h.405c.045 0 .09-.02.133-.058.046-.039.068-.096.068-.173 0-.08-.023-.135-.068-.165a.226.226 0 0 0-.127-.045h-.268v1.146h-.323Zm.85-.649.336.649h-.354l-.323-.649h.342ZM50.5 3c-.208 0-.402-.039-.583-.116A1.507 1.507 0 0 1 49 1.5c0-.208.039-.402.116-.583A1.508 1.508 0 0 1 50.5 0c.208 0 .402.039.583.116a1.507 1.507 0 0 1 .8 1.967 1.51 1.51 0 0 1-.8.8A1.467 1.467 0 0 1 50.5 3Zm0-.371c.208 0 .396-.05.566-.152a1.17 1.17 0 0 0 .409-.409c.101-.171.152-.36.152-.568 0-.208-.05-.396-.152-.566a1.144 1.144 0 0 0-.409-.409A1.075 1.075 0 0 0 50.5.371c-.208 0-.397.051-.568.154a1.144 1.144 0 0 0-.409.409c-.101.17-.152.358-.152.566 0 .208.05.397.152.568.101.17.238.306.409.409.171.101.36.152.568.152Z\" fill=\"currentColor\"></path>\n",
      "</svg>\n",
      "</span></a></div><ul class=\"SidebarNavigation--navList--V7cVh\"><li class=\"SidebarNavigation--navItem--7nKxE\"><a class=\"\" href=\"/\" tabindex=\"0\"><span class=\"Icon--iconWrapper--vSeDL\"><svg class=\"SidebarNavigation--urlIcon--06Qkc Icon--icon--ySD-o\" fill=\"none\" height=\"24\" name=\"home\" viewbox=\"0 0 24 24\" width=\"24\" xmlns=\"http://www.w3.org/2000/svg\">\n",
      "<title>Home</title>\n",
      "<path clip-rule=\"evenodd\" d=\"M9 13C10.1046 13 11 13.8954 11 15V19C11 20.1046 10.1046 21 9 21H5C3.89543 21 3 20.1046 3 19V15C3 13.8954 3.89543 13 5 13H9ZM5 19H9V15H5V19Z\" fill=\"#252422\" fill-rule=\"evenodd\"></path>\n",
      "<path clip-rule=\"evenodd\" d=\"M19 3C20.1046 3 21 3.89543 21 5V9C21 10.1046 20.1046 11 19 11H5C3.89543 11 3 10.1046 3 9V5C3 3.89543 3.89543 3 5 3H19ZM5 9H19V5H5V9Z\" fill=\"#252422\" fill-rule=\"evenodd\"></path>\n",
      "<path clip-rule=\"evenodd\" d=\"M19 13C20.1046 13 21 13.8954 21 15V19C21 20.1046 20.1046 21 19 21H15C13.8954 21 13 20.1046 13 19V15C13 13.8954 13.8954 13 15 13H19ZM15 19H19V15H15V19Z\" fill=\"#252422\" fill-rule=\"evenodd\"></path>\n",
      "</svg>\n",
      "</span><span class=\"SidebarNavigation--bigTitle--YJwlf\">Home</span></a><div class=\"SidebarNavigation--smallTitle--DGvZs\"><span class=\"Ellipsis--ellipsis--zynqj\" style=\"-webkit-line-clamp:1\">Home</span></div></li><li class=\"SidebarNavigation--navItem--7nKxE\"><a class=\"SidebarNavigation--active--mVKSa\" href=\"/weather/today/l/368425437d3d0f1d19146f31746760b223149ec51b637bb4cd8cda0832eb63cf\" tabindex=\"0\"><span class=\"Icon--iconWrapper--vSeDL\"><svg class=\"SidebarNavigation--urlIcon--06Qkc Icon--icon--ySD-o\" fill=\"none\" height=\"24\" name=\"today-active\" viewbox=\"0 0 24 24\" width=\"24\" xmlns=\"http://www.w3.org/2000/svg\">\n",
      "<title>Today</title>\n",
      "<path clip-rule=\"evenodd\" d=\"M16 2C19.0376 2 21.5 4.46243 21.5 7.5C21.5 9.16 20.7634 10.6468 19.6006 11.6553C21.3263 12.5825 22.5 14.4026 22.5 16.5C22.5 19.5376 20.0376 22 17 22H7C3.96243 22 1.5 19.5376 1.5 16.5C1.5 14.0285 3.12967 11.9413 5.37207 11.2471C6.16015 8.92788 8.12963 7.1538 10.5654 6.64648C10.9755 4.01421 13.2527 2 16 2ZM16 4C14.4038 4 13.0576 5.06857 12.6367 6.5293C15.0509 6.74704 17.1081 8.19033 18.1875 10.2314C18.9874 9.59001 19.5 8.60509 19.5 7.5C19.5 5.567 17.933 4 16 4Z\" fill=\"#252422\" fill-rule=\"evenodd\"></path>\n",
      "</svg>\n",
      "</span><span class=\"SidebarNavigation--bigTitle--YJwlf\">Today</span></a><div class=\"SidebarNavigation--smallTitle--DGvZs\"><span class=\"Ellipsis--ellipsis--zynqj\" style=\"-webkit-line-clamp:1\">Today</span></div></li><li class=\"SidebarNavigation--navItem--7nKxE\"><a class=\"\" href=\"/weather/hourbyhour/l/368425437d3d0f1d19146f31746760b223149ec51b637bb4cd8cda0832eb63cf\" tabindex=\"0\"><span class=\"Icon--iconWrapper--vSeDL\"><svg class=\"SidebarNavigation--urlIcon--06Qkc Icon--icon--ySD-o\" fill=\"none\" height=\"24\" name=\"hourly\" viewbox=\"0 0 24 24\" width=\"24\" xmlns=\"http://www.w3.org/2000/svg\">\n",
      "<title>Hourly</title>\n",
      "<path d=\"M12 6C12.5523 6 13 6.44772 13 7V11.5859L15.707 14.293C16.0976 14.6835 16.0976 15.3165 15.707 15.707C15.3165 16.0976 14.6835 16.0976 14.293 15.707L11.293 12.707C11.1054 12.5195 11 12.2652 11 12V7C11 6.44772 11.4477 6 12 6Z\" fill=\"#252422\"></path>\n",
      "<path clip-rule=\"evenodd\" d=\"M12 2C17.5228 2 22 6.47715 22 12C22 17.5228 17.5228 22 12 22C6.47715 22 2 17.5228 2 12C2 6.47715 6.47715 2 12 2ZM12 4C7.58172 4 4 7.58172 4 12C4 16.4183 7.58172 20 12 20C16.4183 20 20 16.4183 20 12C20 7.58172 16.4183 4 12 4Z\" fill=\"#252422\" fill-rule=\"evenodd\"></path>\n",
      "</svg>\n",
      "</span><span class=\"SidebarNavigation--bigTitle--YJwlf\">Hourly</span></a><div class=\"SidebarNavigation--smallTitle--DGvZs\"><span class=\"Ellipsis--ellipsis--zynqj\" style=\"-webkit-line-clamp:1\">Hourly</span></div></li><li class=\"SidebarNavigation--navItem--7nKxE\"><a class=\"\" href=\"/weather/tenday/l/368425437d3d0f1d19146f31746760b223149ec51b637bb4cd8cda0832eb63cf\" tabindex=\"0\"><span class=\"Icon--iconWrapper--vSeDL\"><svg class=\"SidebarNavigation--urlIcon--06Qkc Icon--icon--ySD-o\" fill=\"none\" height=\"24\" name=\"daily\" viewbox=\"0 0 24 24\" width=\"24\" xmlns=\"http://www.w3.org/2000/svg\">\n",
      "<title>Close</title>\n",
      "<path clip-rule=\"evenodd\" d=\"M15.5 1.5C16.0523 1.5 16.5 1.94772 16.5 2.5V3H19C20.1046 3 21 3.89543 21 5V19C21 20.1046 20.1046 21 19 21H5C3.89543 21 3 20.1046 3 19V5C3 3.89543 3.89543 3 5 3H7.5V2.5C7.5 1.94772 7.94772 1.5 8.5 1.5C9.05228 1.5 9.5 1.94772 9.5 2.5V3H14.5V2.5C14.5 1.94772 14.9477 1.5 15.5 1.5ZM5 10V19H19V10H5ZM5 8H19V5H16.5V5.5C16.5 6.05228 16.0523 6.5 15.5 6.5C14.9477 6.5 14.5 6.05228 14.5 5.5V5H9.5V5.5C9.5 6.05228 9.05228 6.5 8.5 6.5C7.94772 6.5 7.5 6.05228 7.5 5.5V5H5V8Z\" fill=\"#252422\" fill-rule=\"evenodd\"></path>\n",
      "</svg>\n",
      "</span><span class=\"SidebarNavigation--bigTitle--YJwlf\">10 Day</span></a><div class=\"SidebarNavigation--smallTitle--DGvZs\"><span class=\"Ellipsis--ellipsis--zynqj\" style=\"-webkit-line-clamp:1\">10 Day</span></div></li><li class=\"SidebarNavigation--navItem--7nKxE\"><a class=\"\" href=\"/weather/monthly/l/368425437d3d0f1d19146f31746760b223149ec51b637bb4cd8cda0832eb63cf\" tabindex=\"0\"><span class=\"Icon--iconWrapper--vSeDL\"><svg class=\"SidebarNavigation--urlIcon--06Qkc Icon--icon--ySD-o\" fill=\"none\" height=\"24\" name=\"monthly\" viewbox=\"0 0 24 24\" width=\"24\" xmlns=\"http://www.w3.org/2000/svg\">\n",
      "<title>Monthly</title>\n",
      "<path d=\"M8.25 18H6V16.333H8.25V18Z\" fill=\"#252422\"></path>\n",
      "<path d=\"M11.5 18H9.25V16.333H11.5V18Z\" fill=\"#252422\"></path>\n",
      "<path d=\"M14.75 18H12.5V16.333H14.75V18Z\" fill=\"#252422\"></path>\n",
      "<path d=\"M18 18H15.75V16.333H18V18Z\" fill=\"#252422\"></path>\n",
      "<path d=\"M8.25 15.333H6V13.667H8.25V15.333Z\" fill=\"#252422\"></path>\n",
      "<path d=\"M11.5 15.333H9.25V13.667H11.5V15.333Z\" fill=\"#252422\"></path>\n",
      "<path d=\"M14.75 15.333H12.5V13.667H14.75V15.333Z\" fill=\"#252422\"></path>\n",
      "<path d=\"M18 15.333H15.75V13.667H18V15.333Z\" fill=\"#252422\"></path>\n",
      "<path d=\"M8.25 12.667H6V11H8.25V12.667Z\" fill=\"#252422\"></path>\n",
      "<path d=\"M11.5 12.667H9.25V11H11.5V12.667Z\" fill=\"#252422\"></path>\n",
      "<path d=\"M14.75 12.667H12.5V11H14.75V12.667Z\" fill=\"#252422\"></path>\n",
      "<path d=\"M18 12.667H15.75V11H18V12.667Z\" fill=\"#252422\"></path>\n",
      "<path clip-rule=\"evenodd\" d=\"M15.5 1.5C16.0523 1.5 16.5 1.94772 16.5 2.5V3H19C20.1046 3 21 3.89543 21 5V19C21 20.1046 20.1046 21 19 21H5C3.89543 21 3 20.1046 3 19V5C3 3.89543 3.89543 3 5 3H7.5V2.5C7.5 1.94772 7.94772 1.5 8.5 1.5C9.05228 1.5 9.5 1.94772 9.5 2.5V3H14.5V2.5C14.5 1.94772 14.9477 1.5 15.5 1.5ZM5 19H19V10H5V19ZM5 8H19V5H16.5V5.5C16.5 6.05228 16.0523 6.5 15.5 6.5C14.9477 6.5 14.5 6.05228 14.5 5.5V5H9.5V5.5C9.5 6.05228 9.05228 6.5 8.5 6.5C7.94772 6.5 7.5 6.05228 7.5 5.5V5H5V8Z\" fill=\"#252422\" fill-rule=\"evenodd\"></path>\n",
      "</svg>\n",
      "</span><span class=\"SidebarNavigation--bigTitle--YJwlf\">Monthly</span></a><div class=\"SidebarNavigation--smallTitle--DGvZs\"><span class=\"Ellipsis--ellipsis--zynqj\" style=\"-webkit-line-clamp:1\">Monthly</span></div></li><li class=\"SidebarNavigation--navItem--7nKxE\"><a class=\"\" href=\"/weather/radar/interactive/l/368425437d3d0f1d19146f31746760b223149ec51b637bb4cd8cda0832eb63cf\" tabindex=\"0\"><span class=\"Icon--iconWrapper--vSeDL\"><svg class=\"SidebarNavigation--urlIcon--06Qkc Icon--icon--ySD-o\" fill=\"none\" height=\"24\" name=\"radar\" viewbox=\"0 0 24 24\" width=\"24\" xmlns=\"http://www.w3.org/2000/svg\">\n",
      "<title>Radar</title>\n",
      "<path d=\"M12.0002 2C12.5524 2.00009 13.0002 2.44777 13.0002 3C13.0002 3.55223 12.5524 3.99991 12.0002 4C10.1494 4 8.35568 4.64229 6.92498 5.81641C5.49441 6.99055 4.51455 8.6243 4.15349 10.4395C3.79248 12.2547 4.07206 14.1393 4.94451 15.7715C5.81696 17.4036 7.22884 18.6823 8.93865 19.3906C10.6486 20.0989 12.5513 20.1925 14.3224 19.6553C16.0935 19.118 17.6233 17.9832 18.6515 16.4443C19.6798 14.9054 20.1435 13.0577 19.9621 11.2158C19.8137 9.7093 19.2409 8.28332 18.3215 7.09766L16.8918 8.52734C17.4929 9.37407 17.868 10.3672 17.9709 11.4121C18.1069 12.7933 17.7603 14.179 16.9894 15.333C16.2184 16.487 15.0704 17.3382 13.7424 17.7412C12.4141 18.1441 10.9867 18.0741 9.70427 17.543C8.42183 17.0118 7.36254 16.0523 6.70818 14.8281C6.05398 13.604 5.84463 12.1904 6.11541 10.8291C6.38625 9.46794 7.12078 8.24283 8.19353 7.3623C9.26655 6.48174 10.6121 6 12.0002 6C12.5524 6.0001 13.0002 6.44778 13.0002 7C13.0002 7.55222 12.5524 7.9999 12.0002 8C11.0749 8 10.1784 8.32126 9.46306 8.9082C8.74771 9.49528 8.25787 10.3121 8.07732 11.2197C7.89679 12.1274 8.03659 13.0696 8.47283 13.8857C8.90908 14.7017 9.61504 15.3412 10.4699 15.6953C11.3247 16.0493 12.2759 16.0967 13.1613 15.8281C14.0468 15.5595 14.8122 14.992 15.3263 14.2227C15.8404 13.4533 16.0712 12.5292 15.9806 11.6084C15.9234 11.0268 15.7387 10.4695 15.4465 9.97266L12.7072 12.7129C12.3167 13.1033 11.6837 13.1032 11.2931 12.7129C10.9026 12.3224 10.9027 11.6894 11.2931 11.2988C13.4004 9.19095 15.5073 7.0835 17.6144 4.97559C17.6283 4.95981 17.6423 4.94379 17.6574 4.92871C18.048 4.53856 18.6811 4.53831 19.0715 4.92871C20.7073 6.56457 21.7255 8.71725 21.9523 11.0195C22.1791 13.3219 21.5999 15.632 20.3146 17.5557C19.0294 19.4791 17.1171 20.8977 14.9035 21.5693C12.6896 22.2409 10.3104 22.1246 8.17302 21.2393C6.03565 20.3539 4.27142 18.7542 3.18084 16.7139C2.09029 14.6735 1.74121 12.3179 2.19255 10.0488C2.64396 7.77987 3.86811 5.73716 5.65642 4.26953C7.44476 2.80203 9.68678 2 12.0002 2Z\" fill=\"#252422\"></path>\n",
      "</svg>\n",
      "</span><span class=\"SidebarNavigation--bigTitle--YJwlf\">Radar</span></a><div class=\"SidebarNavigation--smallTitle--DGvZs\"><span class=\"Ellipsis--ellipsis--zynqj\" style=\"-webkit-line-clamp:1\">Radar</span></div></li><li class=\"SidebarNavigation--navItem--7nKxE\"><a class=\"\" href=\"/storms/hurricane/video/tropical-storm-hurricane-melissa-strengthens-haiti-jamaica\" tabindex=\"0\"><span class=\"Icon--iconWrapper--vSeDL\"><svg class=\"SidebarNavigation--urlIcon--06Qkc Icon--icon--ySD-o\" fill=\"none\" height=\"24\" name=\"video\" viewbox=\"0 0 24 24\" width=\"24\" xmlns=\"http://www.w3.org/2000/svg\">\n",
      "<title>Video</title>\n",
      "<path d=\"M9.5 8.89453C9.50017 8.50364 9.9287 8.26415 10.2617 8.46875L15.3076 11.5742C15.6249 11.7695 15.6249 12.2305 15.3076 12.4258L10.2617 15.5312C9.92871 15.7358 9.50019 15.4963 9.5 15.1055V8.89453Z\" fill=\"#252422\"></path>\n",
      "<path clip-rule=\"evenodd\" d=\"M20.5 4.5C21.6046 4.5 22.5 5.39543 22.5 6.5V17.5C22.5 18.6046 21.6046 19.5 20.5 19.5H3.5C2.39543 19.5 1.5 18.6046 1.5 17.5V6.5C1.5 5.39543 2.39543 4.5 3.5 4.5H20.5ZM3.5 17.5H20.5V6.5H3.5V17.5Z\" fill=\"#252422\" fill-rule=\"evenodd\"></path>\n",
      "</svg>\n",
      "</span><span class=\"SidebarNavigation--bigTitle--YJwlf\">Video</span></a><div class=\"SidebarNavigation--smallTitle--DGvZs\"><span class=\"Ellipsis--ellipsis--zynqj\" style=\"-webkit-line-clamp:1\">Video</span></div></li><li class=\"SidebarNavigation--divider--oI9CZ\"></li><li class=\"Accordion--accordionSectionWrapper--gDwTk SidebarNavigation--accordionSectionWrapper--mtJe5\"><button aria-expanded=\"false\" aria-haspopup=\"true\" class=\"Accordion--accordionHeader--0xwv6\" tabindex=\"0\" type=\"button\"><span>Severe Weather</span><span class=\"Icon--iconWrapper--vSeDL\"><svg class=\"Accordion--chevron--uNOkE Icon--icon--ySD-o\" fill=\"none\" name=\"chevron\" viewbox=\"0 0 20 20\" xmlns=\"http://www.w3.org/2000/svg\">\n",
      "<path d=\"M10 14.25 3.75 8l.875-.875L10 12.5l5.375-5.375.875.875L10 14.25Z\" fill=\"currentColor\"></path>\n",
      "</svg>\n",
      "</span></button><div aria-hidden=\"true\" class=\"Accordion--items--gGyvi\" role=\"menu\" style=\"height:0\"><ul class=\"SidebarNavigation--subList--35qgv\"><li class=\"SidebarNavigation--navItem--7nKxE\"><a class=\"\" href=\"/storms/hurricane-central\" role=\"menuitem\" tabindex=\"-1\"><span class=\"Icon--iconWrapper--vSeDL\"><svg class=\"SidebarNavigation--urlIcon--06Qkc Icon--icon--ySD-o\" fill=\"none\" height=\"24\" name=\"hurricane\" viewbox=\"0 0 24 24\" width=\"24\" xmlns=\"http://www.w3.org/2000/svg\">\n",
      "<title>Hurricane</title>\n",
      "<path d=\"M4 11.5C4 6.5744 7.81988 4.2139 11.1895 3.1123C12.9017 2.55254 14.5998 2.27605 15.8604 2.13867C16.4931 2.06972 17.0217 2.035 17.3945 2.01758C17.581 2.00887 17.7291 2.0042 17.832 2.00195C17.8835 2.00083 17.9239 2.0003 17.9521 2H17.999C18.3736 2 18.7182 2.209 18.8896 2.54199C19.0611 2.87506 19.0312 3.27624 18.8135 3.58105L16.8516 6.32617C17.1882 6.63286 17.6046 7.04562 18.0215 7.55176C18.9642 8.69652 20 10.4178 20 12.5C20 17.4256 16.1801 19.7861 12.8105 20.8877C11.0983 21.4475 9.40022 21.724 8.13965 21.8613C7.50695 21.9303 6.97834 21.965 6.60547 21.9824C6.419 21.9911 6.27089 21.9958 6.16797 21.998C6.1165 21.9992 6.07607 21.9997 6.04785 22H6.00098C5.62644 22 5.28178 21.791 5.11035 21.458C4.93895 21.1249 4.9688 20.7238 5.18652 20.4189L7.14746 17.6729C6.81098 17.3663 6.39494 16.9539 5.97852 16.4482C5.03577 15.3035 4 13.5822 4 11.5ZM14.918 7.3125C14.4695 6.99126 14.3658 6.36799 14.6865 5.91895L15.9561 4.14062C14.7949 4.27298 13.2961 4.52705 11.8105 5.0127C8.68015 6.03611 6 7.92563 6 11.5C6 12.9177 6.71431 14.1966 7.52148 15.1768C7.9175 15.6576 8.31595 16.0419 8.61426 16.3047C8.76268 16.4354 8.88523 16.5348 8.96777 16.5996C9.00884 16.6319 9.04006 16.6553 9.05957 16.6699C9.06934 16.6772 9.07638 16.6828 9.08008 16.6855L9.08105 16.6865C9.53047 17.0075 9.63449 17.6316 9.31348 18.0811L8.04297 19.8584C9.2042 19.7261 10.7036 19.4731 12.1895 18.9873C15.3198 17.9639 18 16.0744 18 12.5C18 11.0823 17.2857 9.80345 16.4785 8.82324C16.0825 8.34237 15.6841 7.95811 15.3857 7.69531C15.2373 7.56457 15.1148 7.46525 15.0322 7.40039C14.9912 7.36813 14.9599 7.34467 14.9404 7.33008C14.9307 7.32277 14.9236 7.31716 14.9199 7.31445L14.918 7.3125Z\" fill=\"#252422\"></path>\n",
      "</svg>\n",
      "</span><span class=\"SidebarNavigation--bigTitle--YJwlf\">Hurricane Central</span></a><div class=\"SidebarNavigation--smallTitle--DGvZs\"><span class=\"Ellipsis--ellipsis--zynqj\" style=\"-webkit-line-clamp:1\">Hurricane Central</span></div></li><li class=\"SidebarNavigation--navItem--7nKxE\"><a class=\"\" href=\"/storms/tornado-central\" role=\"menuitem\" tabindex=\"-1\"><span class=\"Icon--iconWrapper--vSeDL\"><svg class=\"SidebarNavigation--urlIcon--06Qkc Icon--icon--ySD-o\" fill=\"none\" height=\"24\" name=\"tornado\" viewbox=\"0 0 24 24\" width=\"24\" xmlns=\"http://www.w3.org/2000/svg\">\n",
      "<title>Tornado</title>\n",
      "<path d=\"M13 19C13.5523 19 14 19.4477 14 20C14 20.5523 13.5523 21 13 21H10C9.44772 21 9 20.5523 9 20C9 19.4477 9.44772 19 10 19H13Z\" fill=\"#252422\"></path>\n",
      "<path d=\"M12 16C12.5523 16 13 16.4477 13 17C13 17.5523 12.5523 18 12 18H8C7.44772 18 7 17.5523 7 17C7 16.4477 7.44772 16 8 16H12Z\" fill=\"#252422\"></path>\n",
      "<path d=\"M13 13C13.5523 13 14 13.4477 14 14C14 14.5523 13.5523 15 13 15H5.5C4.94772 15 4.5 14.5523 4.5 14C4.5 13.4477 4.94772 13 5.5 13H13Z\" fill=\"#252422\"></path>\n",
      "<path d=\"M14 10C14.5523 10 15 10.4477 15 11C15 11.5523 14.5523 12 14 12H6C5.44772 12 5 11.5523 5 11C5 10.4477 5.44772 10 6 10H14Z\" fill=\"#252422\"></path>\n",
      "<path d=\"M17 7C17.5523 7 18 7.44772 18 8C18 8.55228 17.5523 9 17 9H4.5C3.94772 9 3.5 8.55228 3.5 8C3.5 7.44772 3.94772 7 4.5 7H17Z\" fill=\"#252422\"></path>\n",
      "<path d=\"M19 4C19.5523 4 20 4.44772 20 5C20 5.55228 19.5523 6 19 6H6C5.44772 6 5 5.55228 5 5C5 4.44772 5.44772 4 6 4H19Z\" fill=\"#252422\"></path>\n",
      "</svg>\n",
      "</span><span class=\"SidebarNavigation--bigTitle--YJwlf\">Tornado Central</span></a><div class=\"SidebarNavigation--smallTitle--DGvZs\"><span class=\"Ellipsis--ellipsis--zynqj\" style=\"-webkit-line-clamp:1\">Tornado Central</span></div></li><li class=\"SidebarNavigation--navItem--7nKxE\"><a class=\"\" href=\"/safety/index\" role=\"menuitem\" tabindex=\"-1\"><span class=\"Icon--iconWrapper--vSeDL\"><svg class=\"SidebarNavigation--urlIcon--06Qkc Icon--icon--ySD-o\" fill=\"none\" height=\"24\" name=\"storm\" viewbox=\"0 0 24 24\" width=\"24\" xmlns=\"http://www.w3.org/2000/svg\">\n",
      "<title>Storm</title>\n",
      "<path d=\"M11.124 11.5186C11.3901 11.0347 11.9976 10.8581 12.4814 11.124C12.9653 11.3901 13.1419 11.9976 12.876 12.4814L10.9404 16H15.71L12.6211 21.4902C12.3503 21.9714 11.7411 22.1418 11.2598 21.8711C10.7785 21.6003 10.6082 20.9911 10.8789 20.5098L12.291 18H7.55859L11.124 11.5186Z\" fill=\"#252422\"></path>\n",
      "<path d=\"M12 2.5C15.0789 2.5 17.6881 4.48752 18.626 7.24707C20.8693 7.94067 22.5 10.0278 22.5 12.5C22.5 15.1186 20.6709 17.3073 18.2217 17.8633C17.6831 17.9855 17.1466 17.648 17.0244 17.1094C16.9025 16.571 17.2401 16.0354 17.7783 15.9131C19.3368 15.5594 20.5 14.1644 20.5 12.5C20.5 10.7887 19.2704 9.36305 17.6455 9.06055L17.0098 8.94238L16.8564 8.31348C16.3238 6.12407 14.3509 4.5 12 4.5C9.64881 4.5 7.67512 6.12419 7.14258 8.31348L6.98926 8.94141L6.35449 9.06055C4.72989 9.36319 3.5 10.7887 3.5 12.5C3.5 13.8728 4.29044 15.0628 5.44531 15.6367C5.93973 15.8826 6.14126 16.483 5.89551 16.9775C5.64966 17.472 5.04919 17.6735 4.55469 17.4277C2.74625 16.5289 1.5 14.6609 1.5 12.5C1.5 10.0285 3.12967 7.94126 5.37207 7.24707C6.30993 4.48709 8.92113 2.5 12 2.5Z\" fill=\"#252422\"></path>\n",
      "</svg>\n",
      "</span><span class=\"SidebarNavigation--bigTitle--YJwlf\">Safety &amp; Prep</span></a><div class=\"SidebarNavigation--smallTitle--DGvZs\"><span class=\"Ellipsis--ellipsis--zynqj\" style=\"-webkit-line-clamp:1\">Safety &amp; Prep</span></div></li></ul></div></li><li class=\"SidebarNavigation--bottomDivider--ruivH\"></li><li class=\"Accordion--accordionSectionWrapper--gDwTk SidebarNavigation--accordionSectionWrapper--mtJe5\"><button aria-expanded=\"false\" aria-haspopup=\"true\" class=\"Accordion--accordionHeader--0xwv6\" tabindex=\"0\" type=\"button\"><span>Health &amp; Wellness</span><span class=\"Icon--iconWrapper--vSeDL\"><svg class=\"Accordion--chevron--uNOkE Icon--icon--ySD-o\" fill=\"none\" name=\"chevron\" viewbox=\"0 0 20 20\" xmlns=\"http://www.w3.org/2000/svg\">\n",
      "<path d=\"M10 14.25 3.75 8l.875-.875L10 12.5l5.375-5.375.875.875L10 14.25Z\" fill=\"currentColor\"></path>\n",
      "</svg>\n",
      "</span></button><div aria-hidden=\"true\" class=\"Accordion--items--gGyvi\" role=\"menu\" style=\"height:0\"><ul class=\"SidebarNavigation--subList--35qgv\"><li class=\"SidebarNavigation--navItem--7nKxE\"><a class=\"\" href=\"/forecast/allergy/l/368425437d3d0f1d19146f31746760b223149ec51b637bb4cd8cda0832eb63cf\" role=\"menuitem\" tabindex=\"-1\"><span class=\"Icon--iconWrapper--vSeDL\"><svg class=\"SidebarNavigation--urlIcon--06Qkc Icon--icon--ySD-o\" fill=\"none\" height=\"24\" name=\"allergy\" viewbox=\"0 0 24 24\" width=\"24\" xmlns=\"http://www.w3.org/2000/svg\">\n",
      "<title>Allergy</title>\n",
      "<path clip-rule=\"evenodd\" d=\"M20.9994 3.0498C20.8672 5.69368 20.2005 7.68736 19.2171 9.17578C18.2324 10.6662 16.9672 11.593 15.7289 12.1592C14.4989 12.7214 13.2976 12.9284 12.4134 12.9971C12.2676 13.0084 12.1292 13.0147 12.0003 13.0195V19.0625C14.1015 19.3201 15.9414 20.3776 17.0189 21.9297C17.3336 22.3832 17.2213 23.0063 16.7679 23.3213C16.3143 23.6362 15.6913 23.5238 15.3763 23.0703C14.5471 21.8757 12.9325 21.0001 11.0003 21C9.44701 21 8.08888 21.5684 7.18686 22.4199C6.78534 22.799 6.15196 22.7803 5.7728 22.3789C5.39406 21.9774 5.41248 21.3449 5.81381 20.9658C6.89436 19.9457 8.36515 19.2616 10.0003 19.0615V13.0459C9.98948 13.0457 9.9781 13.0471 9.96713 13.0469C9.29401 13.0294 8.36915 12.9246 7.44174 12.5537C6.50279 12.1781 5.54523 11.5213 4.87143 10.4082C4.20008 9.29891 3.86745 7.8302 4.00327 5.92871L4.06967 5H5.00034C7.82665 5.00009 9.58649 5.8862 10.6371 7.06348C10.9747 6.16846 11.4645 5.34053 12.1527 4.62109C13.7857 2.914 16.3477 2.00002 20.0003 2H21.0521L20.9994 3.0498ZM5.97885 7.04492C6.01809 8.10545 6.26503 8.84876 6.58237 9.37305C6.98659 10.0407 7.56069 10.4469 8.18393 10.6963C8.81142 10.9472 9.47353 11.0297 10.0003 11.0449V11L10.0062 10.6211C10.0028 10.5392 9.99629 10.4426 9.98374 10.335C9.93945 9.95539 9.82663 9.46292 9.56186 8.98145C9.13551 8.20646 8.20694 7.25981 5.97885 7.04492ZM18.9076 4.0332C16.2214 4.19656 14.5874 4.96969 13.598 6.00391C12.5384 7.11171 12.0569 8.68514 12.0052 10.6396C12.0065 10.6949 12.0095 10.7458 12.0091 10.792C12.0085 10.8777 12.0062 10.9481 12.0033 11C12.003 11.0049 12.0016 11.0101 12.0013 11.0146C12.0827 11.0109 12.1693 11.0099 12.2591 11.0029C12.9842 10.9466 13.9398 10.7782 14.8968 10.3408C15.8456 9.90702 16.7998 9.20833 17.5492 8.07422C18.179 7.12083 18.6892 5.81847 18.9076 4.0332Z\" fill=\"#252422\" fill-rule=\"evenodd\"></path>\n",
      "</svg>\n",
      "</span><span class=\"SidebarNavigation--bigTitle--YJwlf\">Allergy Tracker</span></a><div class=\"SidebarNavigation--smallTitle--DGvZs\"><span class=\"Ellipsis--ellipsis--zynqj\" style=\"-webkit-line-clamp:1\">Allergy Tracker</span></div></li><li class=\"SidebarNavigation--navItem--7nKxE\"><a class=\"\" href=\"/forecast/air-quality/l/368425437d3d0f1d19146f31746760b223149ec51b637bb4cd8cda0832eb63cf\" role=\"menuitem\" tabindex=\"-1\"><span class=\"Icon--iconWrapper--vSeDL\"><svg class=\"SidebarNavigation--urlIcon--06Qkc Icon--icon--ySD-o\" fill=\"none\" height=\"24\" name=\"breathing\" viewbox=\"0 0 24 24\" width=\"24\" xmlns=\"http://www.w3.org/2000/svg\">\n",
      "<title>Breathing</title>\n",
      "<path d=\"M15.0996 13.5C16.2032 13.5 17.0914 13.499 17.8086 13.5576C18.5373 13.6172 19.1773 13.7433 19.7695 14.0449C20.7103 14.5243 21.4757 15.2897 21.9551 16.2305C22.2567 16.8227 22.3828 17.4627 22.4424 18.1914C22.501 18.9086 22.5 19.7968 22.5 20.9004V21C22.5 21.5523 22.0523 22 21.5 22C20.9477 22 20.5 21.5523 20.5 21V20.9004C20.5 19.764 20.4996 18.9713 20.4492 18.3545C20.3998 17.7493 20.307 17.4011 20.1729 17.1377C19.8853 16.5735 19.4265 16.1147 18.8623 15.8271C18.5989 15.693 18.2507 15.6002 17.6455 15.5508C17.0287 15.5004 16.236 15.5 15.0996 15.5H14.9004C13.764 15.5 12.9713 15.5004 12.3545 15.5508C11.7493 15.6002 11.4011 15.693 11.1377 15.8271C10.5735 16.1147 10.1147 16.5735 9.82715 17.1377C9.69296 17.4011 9.60023 17.7493 9.55078 18.3545C9.50041 18.9713 9.5 19.764 9.5 20.9004V21C9.5 21.5523 9.05228 22 8.5 22C7.94772 22 7.5 21.5523 7.5 21V20.9004C7.5 19.7968 7.49903 18.9086 7.55762 18.1914C7.61715 17.4627 7.74326 16.8227 8.04492 16.2305C8.52429 15.2897 9.28966 14.5243 10.2305 14.0449C10.8227 13.7433 11.4627 13.6172 12.1914 13.5576C12.9086 13.499 13.7968 13.5 14.9004 13.5H15.0996Z\" fill=\"#252422\"></path>\n",
      "<path clip-rule=\"evenodd\" d=\"M15 2C17.7614 2 20 4.23858 20 7C20 9.76142 17.7614 12 15 12C12.2386 12 10 9.76142 10 7C10 4.23858 12.2386 2 15 2ZM15 4C13.3431 4 12 5.34315 12 7C12 8.65685 13.3431 10 15 10C16.6569 10 18 8.65685 18 7C18 5.34315 16.6569 4 15 4Z\" fill=\"#252422\" fill-rule=\"evenodd\"></path>\n",
      "<path d=\"M8 8C8.41421 8 8.75 8.33579 8.75 8.75C8.75 9.16421 8.41421 9.5 8 9.5H4.5C4.08579 9.5 3.75 9.83579 3.75 10.25V10.75C3.75 11.1642 3.41421 11.5 3 11.5C2.58579 11.5 2.25 11.1642 2.25 10.75V10.25C2.25 9.00736 3.25736 8 4.5 8H8Z\" fill=\"#252422\"></path>\n",
      "<path d=\"M3 3.5C3.41421 3.5 3.75 3.83579 3.75 4.25V4.75C3.75 5.16421 4.08579 5.5 4.5 5.5H8C8.41421 5.5 8.75 5.83579 8.75 6.25C8.75 6.66421 8.41421 7 8 7H4.5C3.25736 7 2.25 5.99264 2.25 4.75V4.25C2.25 3.83579 2.58579 3.5 3 3.5Z\" fill=\"#252422\"></path>\n",
      "</svg>\n",
      "</span><span class=\"SidebarNavigation--bigTitle--YJwlf\">Air Quality Index</span></a><div class=\"SidebarNavigation--smallTitle--DGvZs\"><span class=\"Ellipsis--ellipsis--zynqj\" style=\"-webkit-line-clamp:1\">Air Quality Index</span></div></li><li class=\"SidebarNavigation--navItem--7nKxE\"><a class=\"\" href=\"/forecast/cold-flu/l/368425437d3d0f1d19146f31746760b223149ec51b637bb4cd8cda0832eb63cf\" role=\"menuitem\" tabindex=\"-1\"><span class=\"Icon--iconWrapper--vSeDL\"><svg class=\"SidebarNavigation--urlIcon--06Qkc Icon--icon--ySD-o\" fill=\"none\" height=\"24\" name=\"virus\" viewbox=\"0 0 24 24\" width=\"24\" xmlns=\"http://www.w3.org/2000/svg\">\n",
      "<title>Virus</title>\n",
      "<path d=\"M12.75 14C13.4404 14 14 14.5596 14 15.25C14 15.9404 13.4404 16.5 12.75 16.5C12.0596 16.5 11.5 15.9404 11.5 15.25C11.5 14.5596 12.0596 14 12.75 14Z\" fill=\"#252422\"></path>\n",
      "<path d=\"M8.75 11.5C9.44036 11.5 10 12.0596 10 12.75C10 13.4404 9.44036 14 8.75 14C8.05964 14 7.5 13.4404 7.5 12.75C7.5 12.0596 8.05964 11.5 8.75 11.5Z\" fill=\"#252422\"></path>\n",
      "<path d=\"M12 11C12.5523 11 13 11.4477 13 12C13 12.5523 12.5523 13 12 13C11.4477 13 11 12.5523 11 12C11 11.4477 11.4477 11 12 11Z\" fill=\"#252422\"></path>\n",
      "<path d=\"M15.25 10C15.9404 10 16.5 10.5596 16.5 11.25C16.5 11.9404 15.9404 12.5 15.25 12.5C14.5596 12.5 14 11.9404 14 11.25C14 10.5596 14.5596 10 15.25 10Z\" fill=\"#252422\"></path>\n",
      "<path d=\"M11.25 7.5C11.9404 7.5 12.5 8.05964 12.5 8.75C12.5 9.44036 11.9404 10 11.25 10C10.5596 10 10 9.44036 10 8.75C10 8.05964 10.5596 7.5 11.25 7.5Z\" fill=\"#252422\"></path>\n",
      "<path clip-rule=\"evenodd\" d=\"M13.5 1.5C14.0523 1.5 14.5 1.94772 14.5 2.5C14.5 3.05228 14.0523 3.5 13.5 3.5H13V4.56738C14.3227 4.74364 15.5355 5.26471 16.5469 6.03711L17.3037 5.28223L16.9502 4.92871C16.5597 4.53819 16.5597 3.90517 16.9502 3.51465C17.3407 3.12438 17.9738 3.12421 18.3643 3.51465L20.4854 5.63574C20.8758 6.02618 20.8756 6.65926 20.4854 7.0498C20.0948 7.44033 19.4618 7.44033 19.0713 7.0498L18.7178 6.69629L17.9619 7.45215C18.7347 8.46374 19.2553 9.67691 19.4316 11H20.5V10.5C20.5 9.94772 20.9477 9.5 21.5 9.5C22.0523 9.5 22.5 9.94772 22.5 10.5V13.5C22.5 14.0523 22.0523 14.5 21.5 14.5C20.9477 14.5 20.5 14.0523 20.5 13.5V13H19.4316C19.2553 14.3228 18.7345 15.5354 17.9619 16.5469L18.7178 17.3037L19.0713 16.9502C19.4618 16.5597 20.0948 16.5597 20.4854 16.9502C20.8756 17.3407 20.8758 17.9738 20.4854 18.3643L18.3643 20.4854C17.9738 20.8758 17.3407 20.8756 16.9502 20.4854C16.5597 20.0948 16.5597 19.4618 16.9502 19.0713L17.3037 18.7178L16.5469 17.9619C15.5354 18.7345 14.3228 19.2553 13 19.4316V20.5H13.5C14.0523 20.5 14.5 20.9477 14.5 21.5C14.5 22.0523 14.0523 22.5 13.5 22.5H10.5C9.94772 22.5 9.5 22.0523 9.5 21.5C9.5 20.9477 9.94772 20.5 10.5 20.5H11V19.4316C9.67691 19.2553 8.46374 18.7347 7.45215 17.9619L6.69629 18.7178L7.0498 19.0713C7.44033 19.4618 7.44033 20.0948 7.0498 20.4854C6.65926 20.8756 6.02618 20.8758 5.63574 20.4854L3.51465 18.3643C3.12421 17.9738 3.12438 17.3407 3.51465 16.9502C3.90517 16.5597 4.53819 16.5597 4.92871 16.9502L5.28223 17.3037L6.03711 16.5469C5.26473 15.5355 4.74463 14.3226 4.56836 13H3.5V13.5C3.5 14.0523 3.05228 14.5 2.5 14.5C1.94772 14.5 1.5 14.0523 1.5 13.5V10.5C1.5 9.94772 1.94772 9.5 2.5 9.5C3.05228 9.5 3.5 9.94772 3.5 10.5V11H4.56836C4.74467 9.67712 5.26447 8.46364 6.03711 7.45215L5.28223 6.69629L4.92871 7.0498C4.53819 7.44033 3.90517 7.44033 3.51465 7.0498C3.12439 6.65926 3.12421 6.02618 3.51465 5.63574L5.63574 3.51465C6.02618 3.12421 6.65926 3.12439 7.0498 3.51465C7.44033 3.90517 7.44033 4.53819 7.0498 4.92871L6.69629 5.28223L7.45215 6.03711C8.46368 5.26445 9.67707 4.74368 11 4.56738V3.5H10.5C9.94772 3.5 9.5 3.05228 9.5 2.5C9.5 1.94772 9.94772 1.5 10.5 1.5H13.5ZM12 6.5C8.96243 6.5 6.5 8.96243 6.5 12C6.5 15.0376 8.96243 17.5 12 17.5C15.0376 17.5 17.5 15.0376 17.5 12C17.5 8.96243 15.0376 6.5 12 6.5Z\" fill=\"#252422\" fill-rule=\"evenodd\"></path>\n",
      "</svg>\n",
      "</span><span class=\"SidebarNavigation--bigTitle--YJwlf\">Cold &amp; Flu Tracker</span></a><div class=\"SidebarNavigation--smallTitle--DGvZs\"><span class=\"Ellipsis--ellipsis--zynqj\" style=\"-webkit-line-clamp:1\">Cold &amp; Flu Tracker</span></div></li><li class=\"SidebarNavigation--navItem--7nKxE\"><a class=\"\" href=\"/health/skin-health\" role=\"menuitem\" tabindex=\"-1\"><span class=\"Icon--iconWrapper--vSeDL\"><svg class=\"SidebarNavigation--urlIcon--06Qkc Icon--icon--ySD-o\" fill=\"none\" height=\"24\" name=\"playlist\" viewbox=\"0 0 24 24\" width=\"24\" xmlns=\"http://www.w3.org/2000/svg\">\n",
      "<title>Playlist</title>\n",
      "<path d=\"M9.5 11.3945C9.50017 11.0036 9.9287 10.7641 10.2617 10.9688L15.3076 14.0742C15.6249 14.2695 15.6249 14.7305 15.3076 14.9258L10.2617 18.0312C9.92871 18.2358 9.50019 17.9963 9.5 17.6055V11.3945Z\" fill=\"#252422\"></path>\n",
      "<path clip-rule=\"evenodd\" d=\"M20.5 7C21.6046 7 22.5 7.89543 22.5 9V20C22.5 21.1046 21.6046 22 20.5 22H3.5C2.39543 22 1.5 21.1046 1.5 20V9C1.5 7.89543 2.39543 7 3.5 7H20.5ZM3.5 20H20.5V9H3.5V20Z\" fill=\"#252422\" fill-rule=\"evenodd\"></path>\n",
      "<path d=\"M18.25 4C18.6642 4 19 4.33579 19 4.75C19 5.16421 18.6642 5.5 18.25 5.5H5.75C5.33579 5.5 5 5.16421 5 4.75C5 4.33579 5.33579 4 5.75 4H18.25Z\" fill=\"#252422\"></path>\n",
      "<path d=\"M14.75 1C15.1642 1 15.5 1.33579 15.5 1.75C15.5 2.16421 15.1642 2.5 14.75 2.5H9.25C8.83579 2.5 8.5 2.16421 8.5 1.75C8.5 1.33579 8.83579 1 9.25 1H14.75Z\" fill=\"#252422\"></path>\n",
      "</svg>\n",
      "</span><span class=\"SidebarNavigation--bigTitle--YJwlf\">Skin</span></a><div class=\"SidebarNavigation--smallTitle--DGvZs\"><span class=\"Ellipsis--ellipsis--zynqj\" style=\"-webkit-line-clamp:1\">Skin</span></div></li></ul></div></li><li class=\"SidebarNavigation--bottomDivider--ruivH\"></li><li class=\"Accordion--accordionSectionWrapper--gDwTk SidebarNavigation--accordionSectionWrapper--mtJe5\"><button aria-expanded=\"false\" aria-haspopup=\"true\" class=\"Accordion--accordionHeader--0xwv6\" tabindex=\"0\" type=\"button\"><span>Lifestyle</span><span class=\"Icon--iconWrapper--vSeDL\"><svg class=\"Accordion--chevron--uNOkE Icon--icon--ySD-o\" fill=\"none\" name=\"chevron\" viewbox=\"0 0 20 20\" xmlns=\"http://www.w3.org/2000/svg\">\n",
      "<path d=\"M10 14.25 3.75 8l.875-.875L10 12.5l5.375-5.375.875.875L10 14.25Z\" fill=\"currentColor\"></path>\n",
      "</svg>\n",
      "</span></button><div aria-hidden=\"true\" class=\"Accordion--items--gGyvi\" role=\"menu\" style=\"height:0\"><ul class=\"SidebarNavigation--subList--35qgv\"><li class=\"SidebarNavigation--navItem--7nKxE\"><a class=\"\" href=\"/home-garden\" role=\"menuitem\" tabindex=\"-1\"><span class=\"Icon--iconWrapper--vSeDL\"><svg class=\"SidebarNavigation--urlIcon--06Qkc Icon--icon--ySD-o\" fill=\"none\" height=\"24\" name=\"playlist\" viewbox=\"0 0 24 24\" width=\"24\" xmlns=\"http://www.w3.org/2000/svg\">\n",
      "<title>Playlist</title>\n",
      "<path d=\"M9.5 11.3945C9.50017 11.0036 9.9287 10.7641 10.2617 10.9688L15.3076 14.0742C15.6249 14.2695 15.6249 14.7305 15.3076 14.9258L10.2617 18.0312C9.92871 18.2358 9.50019 17.9963 9.5 17.6055V11.3945Z\" fill=\"#252422\"></path>\n",
      "<path clip-rule=\"evenodd\" d=\"M20.5 7C21.6046 7 22.5 7.89543 22.5 9V20C22.5 21.1046 21.6046 22 20.5 22H3.5C2.39543 22 1.5 21.1046 1.5 20V9C1.5 7.89543 2.39543 7 3.5 7H20.5ZM3.5 20H20.5V9H3.5V20Z\" fill=\"#252422\" fill-rule=\"evenodd\"></path>\n",
      "<path d=\"M18.25 4C18.6642 4 19 4.33579 19 4.75C19 5.16421 18.6642 5.5 18.25 5.5H5.75C5.33579 5.5 5 5.16421 5 4.75C5 4.33579 5.33579 4 5.75 4H18.25Z\" fill=\"#252422\"></path>\n",
      "<path d=\"M14.75 1C15.1642 1 15.5 1.33579 15.5 1.75C15.5 2.16421 15.1642 2.5 14.75 2.5H9.25C8.83579 2.5 8.5 2.16421 8.5 1.75C8.5 1.33579 8.83579 1 9.25 1H14.75Z\" fill=\"#252422\"></path>\n",
      "</svg>\n",
      "</span><span class=\"SidebarNavigation--bigTitle--YJwlf\">Home &amp; Garden</span></a><div class=\"SidebarNavigation--smallTitle--DGvZs\"><span class=\"Ellipsis--ellipsis--zynqj\" style=\"-webkit-line-clamp:1\">Home &amp; Garden</span></div></li><li class=\"SidebarNavigation--navItem--7nKxE\"><a class=\"\" href=\"/pets\" role=\"menuitem\" tabindex=\"-1\"><span class=\"Icon--iconWrapper--vSeDL\"><svg class=\"SidebarNavigation--urlIcon--06Qkc Icon--icon--ySD-o\" fill=\"none\" height=\"24\" name=\"playlist\" viewbox=\"0 0 24 24\" width=\"24\" xmlns=\"http://www.w3.org/2000/svg\">\n",
      "<title>Playlist</title>\n",
      "<path d=\"M9.5 11.3945C9.50017 11.0036 9.9287 10.7641 10.2617 10.9688L15.3076 14.0742C15.6249 14.2695 15.6249 14.7305 15.3076 14.9258L10.2617 18.0312C9.92871 18.2358 9.50019 17.9963 9.5 17.6055V11.3945Z\" fill=\"#252422\"></path>\n",
      "<path clip-rule=\"evenodd\" d=\"M20.5 7C21.6046 7 22.5 7.89543 22.5 9V20C22.5 21.1046 21.6046 22 20.5 22H3.5C2.39543 22 1.5 21.1046 1.5 20V9C1.5 7.89543 2.39543 7 3.5 7H20.5ZM3.5 20H20.5V9H3.5V20Z\" fill=\"#252422\" fill-rule=\"evenodd\"></path>\n",
      "<path d=\"M18.25 4C18.6642 4 19 4.33579 19 4.75C19 5.16421 18.6642 5.5 18.25 5.5H5.75C5.33579 5.5 5 5.16421 5 4.75C5 4.33579 5.33579 4 5.75 4H18.25Z\" fill=\"#252422\"></path>\n",
      "<path d=\"M14.75 1C15.1642 1 15.5 1.33579 15.5 1.75C15.5 2.16421 15.1642 2.5 14.75 2.5H9.25C8.83579 2.5 8.5 2.16421 8.5 1.75C8.5 1.33579 8.83579 1 9.25 1H14.75Z\" fill=\"#252422\"></path>\n",
      "</svg>\n",
      "</span><span class=\"SidebarNavigation--bigTitle--YJwlf\">Pets &amp; Animals</span></a><div class=\"SidebarNavigation--smallTitle--DGvZs\"><span class=\"Ellipsis--ellipsis--zynqj\" style=\"-webkit-line-clamp:1\">Pets &amp; Animals</span></div></li><li class=\"SidebarNavigation--navItem--7nKxE\"><a class=\"\" href=\"/home-garden/recipes\" role=\"menuitem\" tabindex=\"-1\"><span class=\"Icon--iconWrapper--vSeDL\"><svg class=\"SidebarNavigation--urlIcon--06Qkc Icon--icon--ySD-o\" fill=\"none\" height=\"24\" name=\"playlist\" viewbox=\"0 0 24 24\" width=\"24\" xmlns=\"http://www.w3.org/2000/svg\">\n",
      "<title>Playlist</title>\n",
      "<path d=\"M9.5 11.3945C9.50017 11.0036 9.9287 10.7641 10.2617 10.9688L15.3076 14.0742C15.6249 14.2695 15.6249 14.7305 15.3076 14.9258L10.2617 18.0312C9.92871 18.2358 9.50019 17.9963 9.5 17.6055V11.3945Z\" fill=\"#252422\"></path>\n",
      "<path clip-rule=\"evenodd\" d=\"M20.5 7C21.6046 7 22.5 7.89543 22.5 9V20C22.5 21.1046 21.6046 22 20.5 22H3.5C2.39543 22 1.5 21.1046 1.5 20V9C1.5 7.89543 2.39543 7 3.5 7H20.5ZM3.5 20H20.5V9H3.5V20Z\" fill=\"#252422\" fill-rule=\"evenodd\"></path>\n",
      "<path d=\"M18.25 4C18.6642 4 19 4.33579 19 4.75C19 5.16421 18.6642 5.5 18.25 5.5H5.75C5.33579 5.5 5 5.16421 5 4.75C5 4.33579 5.33579 4 5.75 4H18.25Z\" fill=\"#252422\"></path>\n",
      "<path d=\"M14.75 1C15.1642 1 15.5 1.33579 15.5 1.75C15.5 2.16421 15.1642 2.5 14.75 2.5H9.25C8.83579 2.5 8.5 2.16421 8.5 1.75C8.5 1.33579 8.83579 1 9.25 1H14.75Z\" fill=\"#252422\"></path>\n",
      "</svg>\n",
      "</span><span class=\"SidebarNavigation--bigTitle--YJwlf\">Recipes</span></a><div class=\"SidebarNavigation--smallTitle--DGvZs\"><span class=\"Ellipsis--ellipsis--zynqj\" style=\"-webkit-line-clamp:1\">Recipes</span></div></li><li class=\"SidebarNavigation--navItem--7nKxE\"><a class=\"\" href=\"/science/space\" role=\"menuitem\" tabindex=\"-1\"><span class=\"Icon--iconWrapper--vSeDL\"><svg class=\"SidebarNavigation--urlIcon--06Qkc Icon--icon--ySD-o\" fill=\"none\" height=\"24\" name=\"playlist\" viewbox=\"0 0 24 24\" width=\"24\" xmlns=\"http://www.w3.org/2000/svg\">\n",
      "<title>Playlist</title>\n",
      "<path d=\"M9.5 11.3945C9.50017 11.0036 9.9287 10.7641 10.2617 10.9688L15.3076 14.0742C15.6249 14.2695 15.6249 14.7305 15.3076 14.9258L10.2617 18.0312C9.92871 18.2358 9.50019 17.9963 9.5 17.6055V11.3945Z\" fill=\"#252422\"></path>\n",
      "<path clip-rule=\"evenodd\" d=\"M20.5 7C21.6046 7 22.5 7.89543 22.5 9V20C22.5 21.1046 21.6046 22 20.5 22H3.5C2.39543 22 1.5 21.1046 1.5 20V9C1.5 7.89543 2.39543 7 3.5 7H20.5ZM3.5 20H20.5V9H3.5V20Z\" fill=\"#252422\" fill-rule=\"evenodd\"></path>\n",
      "<path d=\"M18.25 4C18.6642 4 19 4.33579 19 4.75C19 5.16421 18.6642 5.5 18.25 5.5H5.75C5.33579 5.5 5 5.16421 5 4.75C5 4.33579 5.33579 4 5.75 4H18.25Z\" fill=\"#252422\"></path>\n",
      "<path d=\"M14.75 1C15.1642 1 15.5 1.33579 15.5 1.75C15.5 2.16421 15.1642 2.5 14.75 2.5H9.25C8.83579 2.5 8.5 2.16421 8.5 1.75C8.5 1.33579 8.83579 1 9.25 1H14.75Z\" fill=\"#252422\"></path>\n",
      "</svg>\n",
      "</span><span class=\"SidebarNavigation--bigTitle--YJwlf\">Space &amp; Skywatching</span></a><div class=\"SidebarNavigation--smallTitle--DGvZs\"><span class=\"Ellipsis--ellipsis--zynqj\" style=\"-webkit-line-clamp:1\">Space &amp; Skywatching</span></div></li><li class=\"SidebarNavigation--navItem--7nKxE\"><a class=\"\" href=\"/travel\" role=\"menuitem\" tabindex=\"-1\"><span class=\"Icon--iconWrapper--vSeDL\"><svg class=\"SidebarNavigation--urlIcon--06Qkc Icon--icon--ySD-o\" fill=\"none\" height=\"24\" name=\"playlist\" viewbox=\"0 0 24 24\" width=\"24\" xmlns=\"http://www.w3.org/2000/svg\">\n",
      "<title>Playlist</title>\n",
      "<path d=\"M9.5 11.3945C9.50017 11.0036 9.9287 10.7641 10.2617 10.9688L15.3076 14.0742C15.6249 14.2695 15.6249 14.7305 15.3076 14.9258L10.2617 18.0312C9.92871 18.2358 9.50019 17.9963 9.5 17.6055V11.3945Z\" fill=\"#252422\"></path>\n",
      "<path clip-rule=\"evenodd\" d=\"M20.5 7C21.6046 7 22.5 7.89543 22.5 9V20C22.5 21.1046 21.6046 22 20.5 22H3.5C2.39543 22 1.5 21.1046 1.5 20V9C1.5 7.89543 2.39543 7 3.5 7H20.5ZM3.5 20H20.5V9H3.5V20Z\" fill=\"#252422\" fill-rule=\"evenodd\"></path>\n",
      "<path d=\"M18.25 4C18.6642 4 19 4.33579 19 4.75C19 5.16421 18.6642 5.5 18.25 5.5H5.75C5.33579 5.5 5 5.16421 5 4.75C5 4.33579 5.33579 4 5.75 4H18.25Z\" fill=\"#252422\"></path>\n",
      "<path d=\"M14.75 1C15.1642 1 15.5 1.33579 15.5 1.75C15.5 2.16421 15.1642 2.5 14.75 2.5H9.25C8.83579 2.5 8.5 2.16421 8.5 1.75C8.5 1.33579 8.83579 1 9.25 1H14.75Z\" fill=\"#252422\"></path>\n",
      "</svg>\n",
      "</span><span class=\"SidebarNavigation--bigTitle--YJwlf\">Travel &amp; Outdoors</span></a><div class=\"SidebarNavigation--smallTitle--DGvZs\"><span class=\"Ellipsis--ellipsis--zynqj\" style=\"-webkit-line-clamp:1\">Travel &amp; Outdoors</span></div></li><li class=\"SidebarNavigation--navItem--7nKxE\"><a class=\"\" href=\"/atmosphere\" role=\"menuitem\" tabindex=\"-1\"><span class=\"Icon--iconWrapper--vSeDL\"><svg class=\"SidebarNavigation--urlIcon--06Qkc Icon--icon--ySD-o\" fill=\"none\" height=\"24\" name=\"products\" viewbox=\"0 0 24 24\" width=\"24\" xmlns=\"http://www.w3.org/2000/svg\">\n",
      "<title>Products</title>\n",
      "<path clip-rule=\"evenodd\" d=\"M6 12C8.48528 12 10.5 14.0147 10.5 16.5C10.5 18.9853 8.48528 21 6 21C3.51472 21 1.5 18.9853 1.5 16.5C1.5 14.0147 3.51472 12 6 12ZM6 14C4.61929 14 3.5 15.1193 3.5 16.5C3.5 17.8807 4.61929 19 6 19C7.38071 19 8.5 17.8807 8.5 16.5C8.5 15.1193 7.38071 14 6 14Z\" fill=\"#252422\" fill-rule=\"evenodd\"></path>\n",
      "<path clip-rule=\"evenodd\" d=\"M18 12C20.4853 12 22.5 14.0147 22.5 16.5C22.5 18.9853 20.4853 21 18 21C15.5147 21 13.5 18.9853 13.5 16.5C13.5 14.0147 15.5147 12 18 12ZM18 14C16.6193 14 15.5 15.1193 15.5 16.5C15.5 17.8807 16.6193 19 18 19C19.3807 19 20.5 17.8807 20.5 16.5C20.5 15.1193 19.3807 14 18 14Z\" fill=\"#252422\" fill-rule=\"evenodd\"></path>\n",
      "<path clip-rule=\"evenodd\" d=\"M12 1.5C14.4853 1.5 16.5 3.51472 16.5 6C16.5 8.48528 14.4853 10.5 12 10.5C9.51472 10.5 7.5 8.48528 7.5 6C7.5 3.51472 9.51472 1.5 12 1.5ZM12 3.5C10.6193 3.5 9.5 4.61929 9.5 6C9.5 7.38071 10.6193 8.5 12 8.5C13.3807 8.5 14.5 7.38071 14.5 6C14.5 4.61929 13.3807 3.5 12 3.5Z\" fill=\"#252422\" fill-rule=\"evenodd\"></path>\n",
      "</svg>\n",
      "</span><span class=\"SidebarNavigation--bigTitle--YJwlf\">Product Reviews &amp; Deals</span></a><div class=\"SidebarNavigation--smallTitle--DGvZs\"><span class=\"Ellipsis--ellipsis--zynqj\" style=\"-webkit-line-clamp:1\">Product Reviews &amp; Deals</span></div></li></ul></div></li></ul></nav></div></div><div class=\"removeIfEmpty\" id=\"WxuSidebarNavigation-sidebarNavigation-sidebar-overlay-nav-injection\"><div aria-hidden=\"true\" class=\"SidebarNavigation--sidebarWrapper--v+g78 SidebarNavigation--isOverlay--+Ijyd\"><nav aria-label=\"Site Navigation Links\" class=\"SidebarNavigation--sidebar--A5yHr\" data-testid=\"sidebar-navigation\"><div class=\"SidebarNavigation--sidebarHeader--bMAxo\"><button class=\"SidebarNavigation--overlayControlButton--cSFvn closeSidebarOverlayButton\" tabindex=\"-1\" type=\"button\"><span class=\"Icon--iconWrapper--vSeDL\"><svg class=\"Icon--icon--ySD-o\" fill=\"none\" height=\"24\" name=\"close\" viewbox=\"0 0 24 24\" width=\"24\" xmlns=\"http://www.w3.org/2000/svg\">\n",
      "<title>Close</title>\n",
      "<path d=\"M17.793 4.79302C18.1836 4.40249 18.8166 4.40249 19.2071 4.79302C19.5976 5.18355 19.5976 5.81658 19.2071 6.20708L13.4141 12L19.2071 17.793C19.5976 18.1835 19.5976 18.8166 19.2071 19.2071C18.8166 19.5976 18.1836 19.5975 17.793 19.2071L12.0001 13.4141L6.20711 19.2071C5.81661 19.5976 5.18358 19.5975 4.79305 19.2071C4.40252 18.8166 4.40252 18.1835 4.79305 17.793L10.586 12L4.79305 6.20708C4.40252 5.81655 4.40252 5.18354 4.79305 4.79302C5.18357 4.40249 5.81658 4.40249 6.20711 4.79302L12.0001 10.586L17.793 4.79302Z\" fill=\"#252422\"></path>\n",
      "</svg>\n",
      "</span></button><a class=\"SidebarNavigation--logoLink--kA9Zy\" href=\"/\" tabindex=\"-1\"><span class=\"Icon--iconWrapper--vSeDL\"><svg class=\"SidebarNavigation--logoIcon--OzBbh Icon--icon--ySD-o\" fill=\"none\" name=\"twc-logo-tm\" viewbox=\"0 0 52 48\" xmlns=\"http://www.w3.org/2000/svg\">\n",
      "<title>The Weather Company</title>\n",
      "<path clip-rule=\"evenodd\" d=\"M48 48H0V0h48v48ZM19.197 37.414c-.548 0-1.05.105-1.633.35-.42.163-.583.245-.967.49l.665 1.119c.64-.431 1.224-.676 1.725-.676.571 0 .7.222.7.886v.245a4.025 4.025 0 0 0-.35-.012c-1.9 0-2.868.653-2.868 2.052 0 1.19.722 1.865 2.051 1.865.49 0 .91-.116 1.202-.326.116-.081.14-.104.361-.314.152.303.479.57.84.722l.827-.956c-.455-.338-.56-.583-.56-1.224v-.105l.036-2.006c0-.64-.023-.827-.105-1.072-.233-.664-.921-1.038-1.924-1.038Zm18.107.012c-.793 0-1.388.257-1.877.804-.525.583-.747 1.295-.747 2.368 0 1.877 1.108 3.09 2.822 3.09.84 0 1.562-.27 2.25-.829l-.607-.932c-.478.396-.979.595-1.515.595-.805 0-1.259-.526-1.259-1.447v-.047h3.451v-.361c0-1.247-.245-2.052-.793-2.611-.384-.397-1.038-.63-1.725-.63ZM7.409 35.234c-1.306 0-2.472.7-3.101 1.877-.373.7-.548 1.505-.548 2.519 0 1.189.326 2.169.98 2.903.664.758 1.527 1.12 2.646 1.12.92 0 1.61-.234 2.25-.758l-.745-1.027a7.262 7.262 0 0 1-.164.128c-.397.268-.781.396-1.224.397-.7 0-1.236-.315-1.563-.91-.244-.443-.337-1.06-.337-2.168 0-.945.139-1.621.454-2.087.291-.432.828-.7 1.376-.7.454 0 .886.152 1.294.455l.735-1.108c-.443-.385-1.248-.64-2.053-.64Zm33.404.012c.059.536.081 1.014.081 1.795l.002 4.714c.005.634.035.812.138 1.08.187.502.723.817 1.388.817.338 0 .664-.058.933-.163l-.268-.933a.519.519 0 0 1-.175.023c-.128 0-.257-.058-.315-.163-.093-.163-.105-.304-.105-1.33v-4.945c-.006-.64-.03-.972-.082-1.257l-1.596.362Zm-30.547 0c.07.245.117.804.117 1.363v6.903h1.585v-4.279c.35-.314.851-.547 1.236-.547.443 0 .606.22.606.815v4.01h1.528v-4.173c0-.676-.035-.77-.151-1.108-.187-.5-.817-.851-1.551-.851-.607 0-1.283.257-1.69.642 0-.07.022-.315.022-.502V36.33c0-.57-.035-1.13-.105-1.457l-1.597.373Zm12.207 2.541c.14.397.21.886.21 1.4v4.325h1.562V39.29c.361-.326.77-.536 1.084-.536.408 0 .526.199.526.875v3.882h1.539v-4.36c0-.373-.036-.63-.118-.851-.186-.513-.769-.863-1.433-.864-.35 0-.759.094-1.073.257-.257.14-.327.186-.688.443a1.53 1.53 0 0 0-.222-.746l-1.387.396Zm6.215 0c.14.397.21.886.21 1.4v4.325h1.562V39.29c.361-.326.77-.536 1.084-.536.408 0 .524.199.524.875v3.882h1.54v-4.36c0-.373-.035-.63-.117-.851-.186-.513-.77-.864-1.434-.864-.35 0-.758.094-1.073.257a5.28 5.28 0 0 0-.688.443c0-.245-.081-.502-.22-.746l-1.389.396ZM19.663 40.9l-.023 1.283c-.233.256-.525.408-.817.408-.396 0-.687-.315-.687-.781 0-.711.373-.91 1.457-.91h.07Zm17.664-2.332c.315 0 .536.117.688.35.14.221.186.455.186.898v.07h-1.806v-.023c0-.828.337-1.295.932-1.295ZM22.1 26.375c-.548 0-1.05.106-1.633.35a4.44 4.44 0 0 0-.968.49l.665 1.119c.641-.431 1.224-.676 1.726-.676.57 0 .699.222.699.886v.245a3.99 3.99 0 0 0-.35-.012c-1.9 0-2.868.653-2.868 2.052 0 1.19.723 1.866 2.052 1.866.49 0 .91-.117 1.201-.327.117-.081.14-.105.361-.314.152.303.479.57.84.722l.827-.956c-.454-.338-.56-.583-.56-1.223v-.106l.036-2.006c0-.64-.023-.827-.105-1.072-.233-.664-.92-1.038-1.923-1.038Zm-5.97.012c-.793 0-1.387.257-1.877.804-.525.583-.746 1.295-.746 2.368 0 1.877 1.107 3.09 2.821 3.09.84 0 1.562-.27 2.25-.829l-.606-.932c-.478.396-.98.594-1.516.594-.804 0-1.259-.525-1.259-1.446v-.046h3.451v-.361c0-1.248-.245-2.053-.793-2.612-.384-.397-1.037-.63-1.725-.63Zm21.651 0c-.793 0-1.388.256-1.878.804-.524.583-.746 1.295-.746 2.368 0 1.877 1.109 3.09 2.823 3.09.839 0 1.562-.27 2.25-.829l-.607-.932c-.478.396-.98.594-1.516.594-.804 0-1.26-.525-1.26-1.446v-.046H40.3v-.361c0-1.248-.244-2.053-.792-2.612-.385-.397-1.03\n"
     ]
    }
   ],
   "source": [
    "# use DuckDuckGo to find websites and take the first result\n",
    "url = search(query)[0]\n",
    "\n",
    "# scrape first wesbsite\n",
    "soup = scrape_weather_info(url)\n",
    "\n",
    "print(f\"Website: {url}\\n\\n\")\n",
    "print(str(soup.body)[:50000]) # limit long outputs"
   ]
  },
  {
   "cell_type": "code",
   "execution_count": 15,
   "id": "6cb3ef4c-58b3-401b-b104-0d51e553d982",
   "metadata": {
    "height": 268
   },
   "outputs": [
    {
     "name": "stdout",
     "output_type": "stream",
     "text": [
      "Website: https://weather.com/weather/today/l/USCA0987:1:US\n",
      "\n",
      "\n",
      "Recents Weather Forecasts Radar & Maps News & Media Products & Account Lifestyle Specialty Forecasts Downtown, San Francisco, California Beach Hazard Statement Weather Today in Downtown, San Francisco, California 7:27 am 6:20 pm Hourly Weather - Downtown, San Francisco, California Now Cloudy 12 am Cloudy 1 am Cloudy 2 am Cloudy Don't Miss Seasonal Hub 10 Day Weather - Downtown, San Francisco, California Tonight Night Cloudy skies. Low 57F. Winds SW at 5 to 10 mph. Sat 25 Day Cloudy with occasional rain...mainly in the morning. High 66F. Winds SW at 10 to 15 mph. Chance of rain 80%. Night Mostly cloudy. Low near 55F. Winds W at 5 to 10 mph. Sun 26 Day Cloudy. High 66F. Winds SW at 10 to 20 mph. Night Generally fair. Low 52F. Winds NW at 10 to 15 mph. Mon 27 Day Some clouds in the morning will give way to mainly sunny skies for the afternoon. High 69F. Winds NNW at 5 to 10 mph. Night A mostly clear sky. Low 53F. Winds N at 5 to 10 mph. Radar Travel We Love Our Critters Lonely Planet Home, Garage & Garden Editor's Pick Keeping You Healthy Product Reviews & Deals Best Retinol Products: How They Work, Our Top Picks This $13 Hoodie Is Selling Fast As Weather Turns Colder These Heating Pads Are The Perfect Gift Under $15 33 Gifts For The Person Who Is Always Cold Stay Safe Planning A Trip? Air Quality Index Air quality is considered satisfactory, and air pollution poses little or no risk. Health & Activities Seasonal Allergies and Pollen Count Forecast Ragweed pollen is moderate in your area Cold & Flu Forecast Flu risk is very low in your area Happening Near San Francisco, California Popular Nextdoor posts We recognize our responsibility to use data and technology for good. We may use or share your data with our data vendors. Take control of your data. The Weather Channel is the world's most accurate forecaster according to ForecastWatch, Global and Regional Weather Forecast Accuracy Overview , 2021-2024, commissioned by The Weather Company . Weather Channel © The Weather Company, LLC 2025\n"
     ]
    }
   ],
   "source": [
    "# extract text\n",
    "weather_data = []\n",
    "for tag in soup.find_all(['h1', 'h2', 'h3', 'p']):\n",
    "    text = tag.get_text(\" \", strip=True)\n",
    "    weather_data.append(text)\n",
    "\n",
    "# combine all elements into a single string\n",
    "weather_data = \"\\n\".join(weather_data)\n",
    "\n",
    "# remove all spaces from the combined text\n",
    "weather_data = re.sub(r'\\s+', ' ', weather_data)\n",
    "    \n",
    "print(f\"Website: {url}\\n\\n\")\n",
    "print(weather_data)"
   ]
  },
  {
   "cell_type": "markdown",
   "id": "92db676d-d8d9-4558-8dcf-1b20fcb48e45",
   "metadata": {},
   "source": [
    "## Agentic Search"
   ]
  },
  {
   "cell_type": "code",
   "execution_count": 16,
   "id": "dc3293b7-a50c-43c8-a022-8975e1e444b8",
   "metadata": {
    "height": 149
   },
   "outputs": [
    {
     "name": "stdout",
     "output_type": "stream",
     "text": [
      "{'location': {'name': 'Mumbai', 'region': 'Maharashtra', 'country': 'India', 'lat': 18.975, 'lon': 72.826, 'tz_id': 'Asia/Kolkata', 'localtime_epoch': 1761369766, 'localtime': '2025-10-25 10:52'}, 'current': {'last_updated_epoch': 1761369300, 'last_updated': '2025-10-25 10:45', 'temp_c': 31.4, 'temp_f': 88.5, 'is_day': 1, 'condition': {'text': 'Mist', 'icon': '//cdn.weatherapi.com/weather/64x64/day/143.png', 'code': 1030}, 'wind_mph': 8.3, 'wind_kph': 13.3, 'wind_degree': 124, 'wind_dir': 'SE', 'pressure_mb': 1008.0, 'pressure_in': 29.77, 'precip_mm': 0.0, 'precip_in': 0.0, 'humidity': 63, 'cloud': 75, 'feelslike_c': 38.8, 'feelslike_f': 101.8, 'windchill_c': 28.1, 'windchill_f': 82.6, 'heatindex_c': 31.2, 'heatindex_f': 88.2, 'dewpoint_c': 22.4, 'dewpoint_f': 72.3, 'vis_km': 4.5, 'vis_miles': 2.0, 'uv': 4.5, 'gust_mph': 11.4, 'gust_kph': 18.4}}\n"
     ]
    }
   ],
   "source": [
    "# run search\n",
    "result = client.search(query, max_results=1)\n",
    "\n",
    "# print first result\n",
    "data = result[\"results\"][0][\"content\"]\n",
    "\n",
    "print(data)"
   ]
  },
  {
   "cell_type": "code",
   "execution_count": 17,
   "id": "0722c3d4-4cbf-43bf-81b0-50f634c4ce61",
   "metadata": {
    "height": 268
   },
   "outputs": [
    {
     "name": "stdout",
     "output_type": "stream",
     "text": [
      "{\u001b[37m\u001b[39;49;00m\n",
      "\u001b[37m    \u001b[39;49;00m\u001b[94m\"location\"\u001b[39;49;00m:\u001b[37m \u001b[39;49;00m{\u001b[37m\u001b[39;49;00m\n",
      "\u001b[37m        \u001b[39;49;00m\u001b[94m\"name\"\u001b[39;49;00m:\u001b[37m \u001b[39;49;00m\u001b[33m\"Mumbai\"\u001b[39;49;00m,\u001b[37m\u001b[39;49;00m\n",
      "\u001b[37m        \u001b[39;49;00m\u001b[94m\"region\"\u001b[39;49;00m:\u001b[37m \u001b[39;49;00m\u001b[33m\"Maharashtra\"\u001b[39;49;00m,\u001b[37m\u001b[39;49;00m\n",
      "\u001b[37m        \u001b[39;49;00m\u001b[94m\"country\"\u001b[39;49;00m:\u001b[37m \u001b[39;49;00m\u001b[33m\"India\"\u001b[39;49;00m,\u001b[37m\u001b[39;49;00m\n",
      "\u001b[37m        \u001b[39;49;00m\u001b[94m\"lat\"\u001b[39;49;00m:\u001b[37m \u001b[39;49;00m\u001b[34m18.975\u001b[39;49;00m,\u001b[37m\u001b[39;49;00m\n",
      "\u001b[37m        \u001b[39;49;00m\u001b[94m\"lon\"\u001b[39;49;00m:\u001b[37m \u001b[39;49;00m\u001b[34m72.826\u001b[39;49;00m,\u001b[37m\u001b[39;49;00m\n",
      "\u001b[37m        \u001b[39;49;00m\u001b[94m\"tz_id\"\u001b[39;49;00m:\u001b[37m \u001b[39;49;00m\u001b[33m\"Asia/Kolkata\"\u001b[39;49;00m,\u001b[37m\u001b[39;49;00m\n",
      "\u001b[37m        \u001b[39;49;00m\u001b[94m\"localtime_epoch\"\u001b[39;49;00m:\u001b[37m \u001b[39;49;00m\u001b[34m1761369766\u001b[39;49;00m,\u001b[37m\u001b[39;49;00m\n",
      "\u001b[37m        \u001b[39;49;00m\u001b[94m\"localtime\"\u001b[39;49;00m:\u001b[37m \u001b[39;49;00m\u001b[33m\"2025-10-25 10:52\"\u001b[39;49;00m\u001b[37m\u001b[39;49;00m\n",
      "\u001b[37m    \u001b[39;49;00m},\u001b[37m\u001b[39;49;00m\n",
      "\u001b[37m    \u001b[39;49;00m\u001b[94m\"current\"\u001b[39;49;00m:\u001b[37m \u001b[39;49;00m{\u001b[37m\u001b[39;49;00m\n",
      "\u001b[37m        \u001b[39;49;00m\u001b[94m\"last_updated_epoch\"\u001b[39;49;00m:\u001b[37m \u001b[39;49;00m\u001b[34m1761369300\u001b[39;49;00m,\u001b[37m\u001b[39;49;00m\n",
      "\u001b[37m        \u001b[39;49;00m\u001b[94m\"last_updated\"\u001b[39;49;00m:\u001b[37m \u001b[39;49;00m\u001b[33m\"2025-10-25 10:45\"\u001b[39;49;00m,\u001b[37m\u001b[39;49;00m\n",
      "\u001b[37m        \u001b[39;49;00m\u001b[94m\"temp_c\"\u001b[39;49;00m:\u001b[37m \u001b[39;49;00m\u001b[34m31.4\u001b[39;49;00m,\u001b[37m\u001b[39;49;00m\n",
      "\u001b[37m        \u001b[39;49;00m\u001b[94m\"temp_f\"\u001b[39;49;00m:\u001b[37m \u001b[39;49;00m\u001b[34m88.5\u001b[39;49;00m,\u001b[37m\u001b[39;49;00m\n",
      "\u001b[37m        \u001b[39;49;00m\u001b[94m\"is_day\"\u001b[39;49;00m:\u001b[37m \u001b[39;49;00m\u001b[34m1\u001b[39;49;00m,\u001b[37m\u001b[39;49;00m\n",
      "\u001b[37m        \u001b[39;49;00m\u001b[94m\"condition\"\u001b[39;49;00m:\u001b[37m \u001b[39;49;00m{\u001b[37m\u001b[39;49;00m\n",
      "\u001b[37m            \u001b[39;49;00m\u001b[94m\"text\"\u001b[39;49;00m:\u001b[37m \u001b[39;49;00m\u001b[33m\"Mist\"\u001b[39;49;00m,\u001b[37m\u001b[39;49;00m\n",
      "\u001b[37m            \u001b[39;49;00m\u001b[94m\"icon\"\u001b[39;49;00m:\u001b[37m \u001b[39;49;00m\u001b[33m\"//cdn.weatherapi.com/weather/64x64/day/143.png\"\u001b[39;49;00m,\u001b[37m\u001b[39;49;00m\n",
      "\u001b[37m            \u001b[39;49;00m\u001b[94m\"code\"\u001b[39;49;00m:\u001b[37m \u001b[39;49;00m\u001b[34m1030\u001b[39;49;00m\u001b[37m\u001b[39;49;00m\n",
      "\u001b[37m        \u001b[39;49;00m},\u001b[37m\u001b[39;49;00m\n",
      "\u001b[37m        \u001b[39;49;00m\u001b[94m\"wind_mph\"\u001b[39;49;00m:\u001b[37m \u001b[39;49;00m\u001b[34m8.3\u001b[39;49;00m,\u001b[37m\u001b[39;49;00m\n",
      "\u001b[37m        \u001b[39;49;00m\u001b[94m\"wind_kph\"\u001b[39;49;00m:\u001b[37m \u001b[39;49;00m\u001b[34m13.3\u001b[39;49;00m,\u001b[37m\u001b[39;49;00m\n",
      "\u001b[37m        \u001b[39;49;00m\u001b[94m\"wind_degree\"\u001b[39;49;00m:\u001b[37m \u001b[39;49;00m\u001b[34m124\u001b[39;49;00m,\u001b[37m\u001b[39;49;00m\n",
      "\u001b[37m        \u001b[39;49;00m\u001b[94m\"wind_dir\"\u001b[39;49;00m:\u001b[37m \u001b[39;49;00m\u001b[33m\"SE\"\u001b[39;49;00m,\u001b[37m\u001b[39;49;00m\n",
      "\u001b[37m        \u001b[39;49;00m\u001b[94m\"pressure_mb\"\u001b[39;49;00m:\u001b[37m \u001b[39;49;00m\u001b[34m1008.0\u001b[39;49;00m,\u001b[37m\u001b[39;49;00m\n",
      "\u001b[37m        \u001b[39;49;00m\u001b[94m\"pressure_in\"\u001b[39;49;00m:\u001b[37m \u001b[39;49;00m\u001b[34m29.77\u001b[39;49;00m,\u001b[37m\u001b[39;49;00m\n",
      "\u001b[37m        \u001b[39;49;00m\u001b[94m\"precip_mm\"\u001b[39;49;00m:\u001b[37m \u001b[39;49;00m\u001b[34m0.0\u001b[39;49;00m,\u001b[37m\u001b[39;49;00m\n",
      "\u001b[37m        \u001b[39;49;00m\u001b[94m\"precip_in\"\u001b[39;49;00m:\u001b[37m \u001b[39;49;00m\u001b[34m0.0\u001b[39;49;00m,\u001b[37m\u001b[39;49;00m\n",
      "\u001b[37m        \u001b[39;49;00m\u001b[94m\"humidity\"\u001b[39;49;00m:\u001b[37m \u001b[39;49;00m\u001b[34m63\u001b[39;49;00m,\u001b[37m\u001b[39;49;00m\n",
      "\u001b[37m        \u001b[39;49;00m\u001b[94m\"cloud\"\u001b[39;49;00m:\u001b[37m \u001b[39;49;00m\u001b[34m75\u001b[39;49;00m,\u001b[37m\u001b[39;49;00m\n",
      "\u001b[37m        \u001b[39;49;00m\u001b[94m\"feelslike_c\"\u001b[39;49;00m:\u001b[37m \u001b[39;49;00m\u001b[34m38.8\u001b[39;49;00m,\u001b[37m\u001b[39;49;00m\n",
      "\u001b[37m        \u001b[39;49;00m\u001b[94m\"feelslike_f\"\u001b[39;49;00m:\u001b[37m \u001b[39;49;00m\u001b[34m101.8\u001b[39;49;00m,\u001b[37m\u001b[39;49;00m\n",
      "\u001b[37m        \u001b[39;49;00m\u001b[94m\"windchill_c\"\u001b[39;49;00m:\u001b[37m \u001b[39;49;00m\u001b[34m28.1\u001b[39;49;00m,\u001b[37m\u001b[39;49;00m\n",
      "\u001b[37m        \u001b[39;49;00m\u001b[94m\"windchill_f\"\u001b[39;49;00m:\u001b[37m \u001b[39;49;00m\u001b[34m82.6\u001b[39;49;00m,\u001b[37m\u001b[39;49;00m\n",
      "\u001b[37m        \u001b[39;49;00m\u001b[94m\"heatindex_c\"\u001b[39;49;00m:\u001b[37m \u001b[39;49;00m\u001b[34m31.2\u001b[39;49;00m,\u001b[37m\u001b[39;49;00m\n",
      "\u001b[37m        \u001b[39;49;00m\u001b[94m\"heatindex_f\"\u001b[39;49;00m:\u001b[37m \u001b[39;49;00m\u001b[34m88.2\u001b[39;49;00m,\u001b[37m\u001b[39;49;00m\n",
      "\u001b[37m        \u001b[39;49;00m\u001b[94m\"dewpoint_c\"\u001b[39;49;00m:\u001b[37m \u001b[39;49;00m\u001b[34m22.4\u001b[39;49;00m,\u001b[37m\u001b[39;49;00m\n",
      "\u001b[37m        \u001b[39;49;00m\u001b[94m\"dewpoint_f\"\u001b[39;49;00m:\u001b[37m \u001b[39;49;00m\u001b[34m72.3\u001b[39;49;00m,\u001b[37m\u001b[39;49;00m\n",
      "\u001b[37m        \u001b[39;49;00m\u001b[94m\"vis_km\"\u001b[39;49;00m:\u001b[37m \u001b[39;49;00m\u001b[34m4.5\u001b[39;49;00m,\u001b[37m\u001b[39;49;00m\n",
      "\u001b[37m        \u001b[39;49;00m\u001b[94m\"vis_miles\"\u001b[39;49;00m:\u001b[37m \u001b[39;49;00m\u001b[34m2.0\u001b[39;49;00m,\u001b[37m\u001b[39;49;00m\n",
      "\u001b[37m        \u001b[39;49;00m\u001b[94m\"uv\"\u001b[39;49;00m:\u001b[37m \u001b[39;49;00m\u001b[34m4.5\u001b[39;49;00m,\u001b[37m\u001b[39;49;00m\n",
      "\u001b[37m        \u001b[39;49;00m\u001b[94m\"gust_mph\"\u001b[39;49;00m:\u001b[37m \u001b[39;49;00m\u001b[34m11.4\u001b[39;49;00m,\u001b[37m\u001b[39;49;00m\n",
      "\u001b[37m        \u001b[39;49;00m\u001b[94m\"gust_kph\"\u001b[39;49;00m:\u001b[37m \u001b[39;49;00m\u001b[34m18.4\u001b[39;49;00m\u001b[37m\u001b[39;49;00m\n",
      "\u001b[37m    \u001b[39;49;00m}\u001b[37m\u001b[39;49;00m\n",
      "}\u001b[37m\u001b[39;49;00m\n",
      "\n"
     ]
    }
   ],
   "source": [
    "import json\n",
    "from pygments import highlight, lexers, formatters\n",
    "\n",
    "# parse JSON\n",
    "parsed_json = json.loads(data.replace(\"'\", '\"'))\n",
    "\n",
    "# pretty print JSON with syntax highlighting\n",
    "formatted_json = json.dumps(parsed_json, indent=4)\n",
    "colorful_json = highlight(formatted_json,\n",
    "                          lexers.JsonLexer(),\n",
    "                          formatters.TerminalFormatter())\n",
    "\n",
    "print(colorful_json)\n"
   ]
  },
  {
   "cell_type": "markdown",
   "id": "837f3ecd-df6b-4f2f-9325-a253678897b0",
   "metadata": {},
   "source": [
    "<img src=\"./google_sample.png\" width=\"800\" height=\"600\">"
   ]
  },
  {
   "cell_type": "code",
   "execution_count": null,
   "id": "61f79eb9-d1c9-44b0-9efd-a8f9b380332a",
   "metadata": {
    "height": 30
   },
   "outputs": [],
   "source": []
  }
 ],
 "metadata": {
  "kernelspec": {
   "display_name": "Python 3 (ipykernel)",
   "language": "python",
   "name": "python3"
  },
  "language_info": {
   "codemirror_mode": {
    "name": "ipython",
    "version": 3
   },
   "file_extension": ".py",
   "mimetype": "text/x-python",
   "name": "python",
   "nbconvert_exporter": "python",
   "pygments_lexer": "ipython3",
   "version": "3.11.9"
  }
 },
 "nbformat": 4,
 "nbformat_minor": 5
}
