{
 "cells": [
  {
   "cell_type": "markdown",
   "id": "b5789bc3-b1ae-42c7-94a8-2ef4f89946fc",
   "metadata": {},
   "source": [
    "# Lesson 4: Persistence and Streaming"
   ]
  },
  {
   "cell_type": "code",
   "execution_count": 1,
   "id": "f5762271-8736-4e94-9444-8c92bd0e8074",
   "metadata": {
    "height": 64
   },
   "outputs": [],
   "source": [
    "from dotenv import load_dotenv\n",
    "\n",
    "_ = load_dotenv()"
   ]
  },
  {
   "cell_type": "code",
   "execution_count": 2,
   "id": "d0168aee-bce9-4d60-b827-f86a88187e31",
   "metadata": {
    "height": 115
   },
   "outputs": [],
   "source": [
    "from langgraph.graph import StateGraph, END\n",
    "from typing import TypedDict, Annotated\n",
    "import operator\n",
    "from langchain_core.messages import AnyMessage, SystemMessage, HumanMessage, ToolMessage\n",
    "from langchain_openai import ChatOpenAI\n",
    "from langchain_community.tools.tavily_search import TavilySearchResults"
   ]
  },
  {
   "cell_type": "code",
   "execution_count": 3,
   "id": "da06a64f-a2d5-4a66-8090-9ada0930c684",
   "metadata": {
    "height": 30
   },
   "outputs": [],
   "source": [
    "tool = TavilySearchResults(max_results=2)"
   ]
  },
  {
   "cell_type": "code",
   "execution_count": 4,
   "id": "2589c5b6-6cc2-4594-9a17-dccdcf676054",
   "metadata": {
    "height": 47
   },
   "outputs": [],
   "source": [
    "class AgentState(TypedDict):\n",
    "    messages: Annotated[list[AnyMessage], operator.add]"
   ]
  },
  {
   "cell_type": "code",
   "execution_count": 5,
   "id": "9c033522-d2fc-41ac-8e3c-5e35872bf88d",
   "metadata": {
    "height": 64
   },
   "outputs": [],
   "source": [
    "from langgraph.checkpoint.sqlite import SqliteSaver\n",
    "\n",
    "memory = SqliteSaver.from_conn_string(\":memory:\")"
   ]
  },
  {
   "cell_type": "code",
   "execution_count": 6,
   "id": "a2ba84ec-c172-4de7-ac55-e3158a531b23",
   "metadata": {
    "height": 574
   },
   "outputs": [],
   "source": [
    "class Agent:\n",
    "    def __init__(self, model, tools, checkpointer, system=\"\"):\n",
    "        self.system = system\n",
    "        graph = StateGraph(AgentState)\n",
    "        graph.add_node(\"llm\", self.call_openai)\n",
    "        graph.add_node(\"action\", self.take_action)\n",
    "        graph.add_conditional_edges(\"llm\", self.exists_action, {True: \"action\", False: END})\n",
    "        graph.add_edge(\"action\", \"llm\")\n",
    "        graph.set_entry_point(\"llm\")\n",
    "        self.graph = graph.compile(checkpointer=checkpointer)\n",
    "        self.tools = {t.name: t for t in tools}\n",
    "        self.model = model.bind_tools(tools)\n",
    "\n",
    "    def call_openai(self, state: AgentState):\n",
    "        messages = state['messages']\n",
    "        if self.system:\n",
    "            messages = [SystemMessage(content=self.system)] + messages\n",
    "        message = self.model.invoke(messages)\n",
    "        return {'messages': [message]}\n",
    "\n",
    "    def exists_action(self, state: AgentState):\n",
    "        result = state['messages'][-1]\n",
    "        return len(result.tool_calls) > 0\n",
    "\n",
    "    def take_action(self, state: AgentState):\n",
    "        tool_calls = state['messages'][-1].tool_calls\n",
    "        results = []\n",
    "        for t in tool_calls:\n",
    "            print(f\"Calling: {t}\")\n",
    "            result = self.tools[t['name']].invoke(t['args'])\n",
    "            results.append(ToolMessage(tool_call_id=t['id'], name=t['name'], content=str(result)))\n",
    "        print(\"Back to the model!\")\n",
    "        return {'messages': results}"
   ]
  },
  {
   "cell_type": "code",
   "execution_count": 7,
   "id": "876d5092-b8ef-4e38-b4d7-0e80c609bf7a",
   "metadata": {
    "height": 132
   },
   "outputs": [],
   "source": [
    "prompt = \"\"\"You are a smart research assistant. Use the search engine to look up information. \\\n",
    "You are allowed to make multiple calls (either together or in sequence). \\\n",
    "Only look up information when you are sure of what you want. \\\n",
    "If you need to look up some information before asking a follow up question, you are allowed to do that!\n",
    "\"\"\"\n",
    "model = ChatOpenAI(model=\"gpt-4o\")\n",
    "abot = Agent(model, [tool], system=prompt, checkpointer=memory)"
   ]
  },
  {
   "cell_type": "code",
   "execution_count": 9,
   "id": "10084a02-2928-4945-9f7c-ad3f5b33caf7",
   "metadata": {
    "height": 30
   },
   "outputs": [],
   "source": [
    "messages = [HumanMessage(content=\"What is the weather in mumbai?\")]"
   ]
  },
  {
   "cell_type": "code",
   "execution_count": 10,
   "id": "714d1205-f8fc-4912-b148-2a45da99219c",
   "metadata": {
    "height": 30
   },
   "outputs": [],
   "source": [
    "thread = {\"configurable\": {\"thread_id\": \"1\"}}"
   ]
  },
  {
   "cell_type": "code",
   "execution_count": 11,
   "id": "83588e70-254f-4f83-a510-c8ae81e729b0",
   "metadata": {
    "height": 64
   },
   "outputs": [
    {
     "name": "stdout",
     "output_type": "stream",
     "text": [
      "[AIMessage(content='', additional_kwargs={'tool_calls': [{'id': 'call_XAYHPK2XCsgH88jHnjrzX0pb', 'function': {'arguments': '{\"query\":\"current weather in Mumbai\"}', 'name': 'tavily_search_results_json'}, 'type': 'function'}]}, response_metadata={'token_usage': {'completion_tokens': 21, 'prompt_tokens': 152, 'total_tokens': 173, 'prompt_tokens_details': {'cached_tokens': 0, 'audio_tokens': 0}, 'completion_tokens_details': {'reasoning_tokens': 0, 'audio_tokens': 0, 'accepted_prediction_tokens': 0, 'rejected_prediction_tokens': 0}}, 'model_name': 'gpt-4o', 'system_fingerprint': 'fp_07871e2ad8', 'finish_reason': 'tool_calls', 'logprobs': None}, id='run-f5991cd6-6f68-4025-ad91-2d73ecc7f5b9-0', tool_calls=[{'name': 'tavily_search_results_json', 'args': {'query': 'current weather in Mumbai'}, 'id': 'call_XAYHPK2XCsgH88jHnjrzX0pb'}])]\n",
      "Calling: {'name': 'tavily_search_results_json', 'args': {'query': 'current weather in Mumbai'}, 'id': 'call_XAYHPK2XCsgH88jHnjrzX0pb'}\n",
      "Back to the model!\n",
      "[ToolMessage(content=\"[{'url': 'https://www.weather25.com/asia/india/maharashtra/mumbai?page=month&month=October', 'content': 'weather25.com\\\\nSearch\\\\nweather in India\\\\nRemove from your favorite locations\\\\nAdd to my locations\\\\nShare\\\\nweather in India\\\\n\\\\n# Mumbai weather in October 2025\\\\n\\\\nLight rain shower\\\\nLight rain shower\\\\nLight rain shower\\\\nModerate or heavy rain shower\\\\nPatchy light rain\\\\nLight rain shower\\\\nLight rain shower\\\\nPatchy rain possible\\\\nPartly cloudy\\\\nPatchy rain possible\\\\nLight rain shower\\\\nPartly cloudy\\\\nPatchy rain possible\\\\nPartly cloudy\\\\n\\\\n## The average weather in Mumbai in October [...] Patchy rain possible\\\\nPatchy rain possible\\\\nPatchy rain possible\\\\nSunny\\\\nPatchy rain possible\\\\nThundery outbreaks possible\\\\nPatchy rain possible\\\\nLight rain shower\\\\nSunny\\\\nPatchy rain possible\\\\nLight rain shower\\\\nLight rain shower\\\\nSunny\\\\nSunny\\\\nSunny\\\\nPatchy rain possible\\\\nLight rain shower\\\\nPartly cloudy\\\\nPatchy rain possible\\\\nPartly cloudy\\\\nSunny\\\\nPartly cloudy\\\\nSunny\\\\nSunny\\\\nLight rain shower\\\\nLight rain shower\\\\nLight rain shower\\\\nModerate or heavy rain shower\\\\nPatchy light rain\\\\nLight rain shower\\\\nLight rain shower [...] The temperatures in Mumbai during October are extremely high, between 27°C and hot as 33°C, drinking water regularly is advisable.\\\\n\\\\nYou can expect about 3 to 8 days of rain in Mumbai during the month of October. It’s a good idea to bring along your umbrella so that you don’t get caught in poor weather.\\\\n\\\\nOur weather forecast can give you a great sense of what weather to expect in Mumbai in October 2025.'}, {'url': 'https://www.accuweather.com/en/in/mumbai/204842/october-weather/204842', 'content': '# Mumbai, Maharashtra\\\\n\\\\nMumbai\\\\n\\\\nMaharashtra\\\\n\\\\n## Around the Globe\\\\n\\\\nAround the Globe\\\\n\\\\n### Hurricane Tracker\\\\n\\\\n### Severe Weather\\\\n\\\\n### Radar & Maps\\\\n\\\\n### News & Features\\\\n\\\\n### Astronomy\\\\n\\\\n### Business\\\\n\\\\n### Climate\\\\n\\\\n### Health\\\\n\\\\n### Recreation\\\\n\\\\n### Sports\\\\n\\\\n### Travel\\\\n\\\\n### Warnings\\\\n\\\\n### Data Suite\\\\n\\\\n### Forensics\\\\n\\\\n### Advertising\\\\n\\\\n### Superior Accuracy™\\\\n\\\\n### Video\\\\n\\\\n## Monthly\\\\n\\\\n## October\\\\n\\\\n## 2025\\\\n\\\\n## Daily\\\\n\\\\n## Temperature Graph\\\\n\\\\n## Further Ahead\\\\n\\\\nFurther Ahead\\\\n\\\\n### November 2025\\\\n\\\\n### December 2025'}]\", name='tavily_search_results_json', tool_call_id='call_XAYHPK2XCsgH88jHnjrzX0pb')]\n",
      "[AIMessage(content=\"I couldn't find the specific current weather conditions for Mumbai, but I can provide a general idea based on typical October weather patterns. In Mumbai, October usually features high temperatures ranging from about 27°C to 33°C. There can be occasional rain showers, so carrying an umbrella might be advisable. If you need the exact current weather, please consider checking a reliable weather service or app for real-time information.\", response_metadata={'token_usage': {'completion_tokens': 82, 'prompt_tokens': 725, 'total_tokens': 807, 'prompt_tokens_details': {'cached_tokens': 0, 'audio_tokens': 0}, 'completion_tokens_details': {'reasoning_tokens': 0, 'audio_tokens': 0, 'accepted_prediction_tokens': 0, 'rejected_prediction_tokens': 0}}, 'model_name': 'gpt-4o', 'system_fingerprint': 'fp_a788c5aef0', 'finish_reason': 'stop', 'logprobs': None}, id='run-ba85642e-3e4e-4734-a8f1-bdf394dc5f9f-0')]\n"
     ]
    }
   ],
   "source": [
    "for event in abot.graph.stream({\"messages\": messages}, thread):\n",
    "    for v in event.values():\n",
    "        print(v['messages'])"
   ]
  },
  {
   "cell_type": "code",
   "execution_count": 14,
   "id": "6cb3ef4c-58b3-401b-b104-0d51e553d982",
   "metadata": {
    "height": 98
   },
   "outputs": [
    {
     "name": "stdout",
     "output_type": "stream",
     "text": [
      "{'messages': [AIMessage(content='', additional_kwargs={'tool_calls': [{'id': 'call_mf6kBZRdzadz6Tnqu5RyWAlH', 'function': {'arguments': '{\"query\":\"current weather in Delhi\"}', 'name': 'tavily_search_results_json'}, 'type': 'function'}]}, response_metadata={'token_usage': {'completion_tokens': 21, 'prompt_tokens': 1720, 'total_tokens': 1741, 'prompt_tokens_details': {'cached_tokens': 0, 'audio_tokens': 0}, 'completion_tokens_details': {'reasoning_tokens': 0, 'audio_tokens': 0, 'accepted_prediction_tokens': 0, 'rejected_prediction_tokens': 0}}, 'model_name': 'gpt-4o', 'system_fingerprint': 'fp_a788c5aef0', 'finish_reason': 'tool_calls', 'logprobs': None}, id='run-6abbbbe7-ab18-4da4-a693-3a1e49ff4005-0', tool_calls=[{'name': 'tavily_search_results_json', 'args': {'query': 'current weather in Delhi'}, 'id': 'call_mf6kBZRdzadz6Tnqu5RyWAlH'}])]}\n",
      "Calling: {'name': 'tavily_search_results_json', 'args': {'query': 'current weather in Delhi'}, 'id': 'call_mf6kBZRdzadz6Tnqu5RyWAlH'}\n",
      "Back to the model!\n",
      "{'messages': [ToolMessage(content=\"[{'url': 'https://www.weather25.com/asia/india/delhi?page=month&month=October', 'content': 'weather25.com\\\\nSearch\\\\nweather in India\\\\nRemove from your favorite locations\\\\nAdd to my locations\\\\nShare\\\\nweather in India\\\\n\\\\n# Delhi weather in October 2025\\\\n\\\\nMist\\\\nClear\\\\nClear\\\\nClear\\\\nClear\\\\nClear\\\\nPartly cloudy\\\\nClear\\\\nClear\\\\nClear\\\\nClear\\\\nClear\\\\nClear\\\\nClear\\\\n\\\\n## The average weather in Delhi in October\\\\n\\\\nThe weather in Delhi in October is very hot. The average temperatures are between 26°C and 36°C, drinking water regularly is advisable. [...] | 19 Sunny 34° /24° | 20 Sunny 34° /24° | 21 Sunny 34° /24° | 22 Sunny 34° /25° | 23 Sunny 34° /24° | 24 Sunny 33° /23° | 25 Mist 32° /24° |\\\\n| 26 Sunny 32° /24° | 27 Sunny 32° /24° | 28 Sunny 32° /23° | 29 Sunny 32° /24° | 30 Sunny 32° /24° | 31 Partly cloudy 31° /25° |  | [...] | Sun | Mon | Tue | Wed | Thu | Fri | Sat |\\\\n ---  ---  --- \\\\n|  |  |  | 1 Sunny 37° /29° | 2 Sunny 36° /27° | 3 Sunny 37° /27° | 4 Sunny 37° /27° |\\\\n| 5 Sunny 37° /27° | 6 Partly cloudy 35° /26° | 7 Light rain shower 34° /25° | 8 Patchy rain possible 34° /26° | 9 Partly cloudy 33° /26° | 10 Sunny 33° /26° | 11 Sunny 34° /25° |\\\\n| 12 Partly cloudy 35° /25° | 13 Sunny 35° /25° | 14 Sunny 35° /25° | 15 Sunny 35° /25° | 16 Sunny 35° /24° | 17 Partly cloudy 32° /23° | 18 Sunny 33° /24° |'}, {'url': 'https://www.accuweather.com/en/in/delhi/202396/october-weather/202396', 'content': '# Delhi, Delhi\\\\n\\\\nDelhi\\\\n\\\\nDelhi\\\\n\\\\n## Around the Globe\\\\n\\\\nAround the Globe\\\\n\\\\n### Hurricane Tracker\\\\n\\\\n### Severe Weather\\\\n\\\\n### Radar & Maps\\\\n\\\\n### News & Features\\\\n\\\\n### Astronomy\\\\n\\\\n### Business\\\\n\\\\n### Climate\\\\n\\\\n### Health\\\\n\\\\n### Recreation\\\\n\\\\n### Sports\\\\n\\\\n### Travel\\\\n\\\\n### Warnings\\\\n\\\\n### Data Suite\\\\n\\\\n### Forensics\\\\n\\\\n### Advertising\\\\n\\\\n### Superior Accuracy™\\\\n\\\\n### Video\\\\n\\\\n## Monthly\\\\n\\\\n## October\\\\n\\\\n## 2025\\\\n\\\\n## Daily\\\\n\\\\n## Temperature Graph\\\\n\\\\n## Further Ahead\\\\n\\\\nFurther Ahead\\\\n\\\\n### November 2025\\\\n\\\\n### December 2025\\\\n\\\\n### January 2026'}]\", name='tavily_search_results_json', tool_call_id='call_mf6kBZRdzadz6Tnqu5RyWAlH')]}\n",
      "{'messages': [AIMessage(content='Delhi in October typically experiences very hot weather, with average temperatures ranging from 26°C to 36°C. This makes it hotter than both Mumbai and Los Angeles during this time of year.', response_metadata={'token_usage': {'completion_tokens': 39, 'prompt_tokens': 2443, 'total_tokens': 2482, 'prompt_tokens_details': {'cached_tokens': 1664, 'audio_tokens': 0}, 'completion_tokens_details': {'reasoning_tokens': 0, 'audio_tokens': 0, 'accepted_prediction_tokens': 0, 'rejected_prediction_tokens': 0}}, 'model_name': 'gpt-4o', 'system_fingerprint': 'fp_a788c5aef0', 'finish_reason': 'stop', 'logprobs': None}, id='run-9eb2609b-fc73-4166-b118-3e9c24127ec5-0')]}\n"
     ]
    }
   ],
   "source": [
    "messages = [HumanMessage(content=\"What about in delhi?\")]\n",
    "thread = {\"configurable\": {\"thread_id\": \"1\"}}\n",
    "for event in abot.graph.stream({\"messages\": messages}, thread):\n",
    "    for v in event.values():\n",
    "        print(v)"
   ]
  },
  {
   "cell_type": "code",
   "execution_count": 15,
   "id": "dc3293b7-a50c-43c8-a022-8975e1e444b8",
   "metadata": {
    "height": 98
   },
   "outputs": [
    {
     "name": "stdout",
     "output_type": "stream",
     "text": [
      "{'messages': [AIMessage(content=\"Based on the typical October weather patterns, Delhi is the warmest among the three cities. Delhi's temperatures range from 26°C to 36°C, while Mumbai ranges from 27°C to 33°C, and Los Angeles ranges from 18°C to 27°C.\", response_metadata={'token_usage': {'completion_tokens': 57, 'prompt_tokens': 2494, 'total_tokens': 2551, 'prompt_tokens_details': {'cached_tokens': 1664, 'audio_tokens': 0}, 'completion_tokens_details': {'reasoning_tokens': 0, 'audio_tokens': 0, 'accepted_prediction_tokens': 0, 'rejected_prediction_tokens': 0}}, 'model_name': 'gpt-4o', 'system_fingerprint': 'fp_a788c5aef0', 'finish_reason': 'stop', 'logprobs': None}, id='run-966e7f2a-889c-43a7-9c89-7f3b8d495b63-0')]}\n"
     ]
    }
   ],
   "source": [
    "messages = [HumanMessage(content=\"Which one is warmer?\")]\n",
    "thread = {\"configurable\": {\"thread_id\": \"1\"}}\n",
    "for event in abot.graph.stream({\"messages\": messages}, thread):\n",
    "    for v in event.values():\n",
    "        print(v)"
   ]
  },
  {
   "cell_type": "code",
   "execution_count": 16,
   "id": "0722c3d4-4cbf-43bf-81b0-50f634c4ce61",
   "metadata": {
    "height": 98
   },
   "outputs": [
    {
     "name": "stdout",
     "output_type": "stream",
     "text": [
      "{'messages': [AIMessage(content=\"Could you please clarify what you're comparing to determine which is warmer? Are you comparing two specific locations, types of clothing, materials, or something else? Let me know so I can provide the appropriate information.\", response_metadata={'token_usage': {'completion_tokens': 43, 'prompt_tokens': 149, 'total_tokens': 192, 'prompt_tokens_details': {'cached_tokens': 0, 'audio_tokens': 0}, 'completion_tokens_details': {'reasoning_tokens': 0, 'audio_tokens': 0, 'accepted_prediction_tokens': 0, 'rejected_prediction_tokens': 0}}, 'model_name': 'gpt-4o', 'system_fingerprint': 'fp_f9f4fb6dbf', 'finish_reason': 'stop', 'logprobs': None}, id='run-e412f675-93e1-4cdc-ab58-3d61967b53c5-0')]}\n"
     ]
    }
   ],
   "source": [
    "messages = [HumanMessage(content=\"Which one is warmer?\")]\n",
    "thread = {\"configurable\": {\"thread_id\": \"2\"}}\n",
    "for event in abot.graph.stream({\"messages\": messages}, thread):\n",
    "    for v in event.values():\n",
    "        print(v)"
   ]
  },
  {
   "cell_type": "markdown",
   "id": "ace59a36-3941-459e-b9d1-ac5a4a1ed3ae",
   "metadata": {},
   "source": [
    "## Streaming tokens"
   ]
  },
  {
   "cell_type": "code",
   "execution_count": 17,
   "id": "6b2f82fe-3ec4-4917-be51-9fb10d1317fa",
   "metadata": {
    "height": 81
   },
   "outputs": [],
   "source": [
    "from langgraph.checkpoint.aiosqlite import AsyncSqliteSaver\n",
    "\n",
    "memory = AsyncSqliteSaver.from_conn_string(\":memory:\")\n",
    "abot = Agent(model, [tool], system=prompt, checkpointer=memory)"
   ]
  },
  {
   "cell_type": "code",
   "execution_count": null,
   "id": "ee0fe1c7-77e2-499c-a2f9-1f739bb6ddf0",
   "metadata": {
    "height": 200
   },
   "outputs": [],
   "source": [
    "messages = [HumanMessage(content=\"What is the weather in Mumbai?\")]\n",
    "thread = {\"configurable\": {\"thread_id\": \"4\"}}\n",
    "async for event in abot.graph.astream_events({\"messages\": messages}, thread, version=\"v1\"):\n",
    "    kind = event[\"event\"]\n",
    "    if kind == \"on_chat_model_stream\":\n",
    "        content = event[\"data\"][\"chunk\"].content\n",
    "        if content:\n",
    "            # Empty content in the context of OpenAI means\n",
    "            # that the model is asking for a tool to be invoked.\n",
    "            # So we only print non-empty content\n",
    "            print(content, end=\"|\")"
   ]
  },
  {
   "cell_type": "code",
   "execution_count": null,
   "id": "98f303b1-a4d0-408c-8cc0-515ff980717f",
   "metadata": {
    "height": 30
   },
   "outputs": [],
   "source": []
  }
 ],
 "metadata": {
  "kernelspec": {
   "display_name": "Python 3 (ipykernel)",
   "language": "python",
   "name": "python3"
  },
  "language_info": {
   "codemirror_mode": {
    "name": "ipython",
    "version": 3
   },
   "file_extension": ".py",
   "mimetype": "text/x-python",
   "name": "python",
   "nbconvert_exporter": "python",
   "pygments_lexer": "ipython3",
   "version": "3.11.9"
  }
 },
 "nbformat": 4,
 "nbformat_minor": 5
}
